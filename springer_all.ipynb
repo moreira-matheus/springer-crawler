{
 "cells": [
  {
   "cell_type": "code",
   "execution_count": 1,
   "metadata": {},
   "outputs": [],
   "source": [
    "import os\n",
    "import re\n",
    "import unicodedata\n",
    "import requests\n",
    "from tqdm import tqdm\n",
    "import pandas as pd"
   ]
  },
  {
   "cell_type": "code",
   "execution_count": 2,
   "metadata": {},
   "outputs": [],
   "source": [
    "pd.set_option('display.max_colwidth', None)"
   ]
  },
  {
   "cell_type": "code",
   "execution_count": 3,
   "metadata": {},
   "outputs": [],
   "source": [
    "xl_url = 'https://marcusnunes.me/images/FreeEnglishTextbooks.xlsx'\n",
    "xl_name = 'List_of_books.xlsx'\n",
    "folder_name = './Springer_ALL/'\n",
    "extension = '.pdf'"
   ]
  },
  {
   "cell_type": "code",
   "execution_count": 4,
   "metadata": {},
   "outputs": [],
   "source": [
    "remove_accents = lambda text: unicodedata.normalize('NFD', text)\\\n",
    "                              .encode('ascii', 'ignore')\\\n",
    "                              .decode(\"utf-8\")\n",
    "\n",
    "def parse_file_name(file_name):\n",
    "    pat = r'\\\\|\\/|:|\\*|\\?|\\\"|<|>|\\|'\n",
    "    regex = re.compile(pat)\n",
    "    return regex.sub('', file_name)\n",
    "\n",
    "def parse_author(authors):\n",
    "    author_list = authors.split(',')\n",
    "    return author_list[0] + ' et al.' if len(author_list) > 1 else author_list[0]"
   ]
  },
  {
   "cell_type": "code",
   "execution_count": 5,
   "metadata": {},
   "outputs": [],
   "source": [
    "books = pd.read_excel(xl_url)"
   ]
  },
  {
   "cell_type": "code",
   "execution_count": 6,
   "metadata": {},
   "outputs": [
    {
     "data": {
      "text/plain": [
       "(409, 22)"
      ]
     },
     "execution_count": 6,
     "metadata": {},
     "output_type": "execute_result"
    }
   ],
   "source": [
    "books.shape"
   ]
  },
  {
   "cell_type": "code",
   "execution_count": 7,
   "metadata": {},
   "outputs": [
    {
     "data": {
      "text/plain": [
       "Index(['Book Title', 'Author', 'Edition', 'Product Type', 'Copyright Year',\n",
       "       'Copyright Holder', 'Print ISBN', 'Electronic ISBN', 'Language',\n",
       "       'Language Collection', 'eBook Package', 'English Package Name',\n",
       "       'German Package Name', 'Series Print ISSN', 'Series Electronic ISSN',\n",
       "       'Series Title', 'Volume Number', 'DOI URL', 'OpenURL',\n",
       "       'Subject Classification', 'Publisher', 'Imprint'],\n",
       "      dtype='object')"
      ]
     },
     "execution_count": 7,
     "metadata": {},
     "output_type": "execute_result"
    }
   ],
   "source": [
    "books.columns"
   ]
  },
  {
   "cell_type": "code",
   "execution_count": 8,
   "metadata": {},
   "outputs": [],
   "source": [
    "os.makedirs(folder_name, exist_ok=True)"
   ]
  },
  {
   "cell_type": "code",
   "execution_count": 9,
   "metadata": {
    "scrolled": true
   },
   "outputs": [
    {
     "name": "stderr",
     "output_type": "stream",
     "text": [
      "\r",
      "0it [00:00, ?it/s]"
     ]
    },
    {
     "name": "stdout",
     "output_type": "stream",
     "text": [
      "BOOK:  Fundamentals of Power Electronics - Robert W. Erickson et al. - 2nd ed. 2001\n",
      "Saving book...\n"
     ]
    },
    {
     "name": "stderr",
     "output_type": "stream",
     "text": [
      "\r",
      "1it [01:04, 64.42s/it]"
     ]
    },
    {
     "name": "stdout",
     "output_type": "stream",
     "text": [
      "BOOK:  Handbook of the Life Course - Jeylan T. Mortimer et al. - 2003\n",
      "Saving book...\n"
     ]
    },
    {
     "name": "stderr",
     "output_type": "stream",
     "text": [
      "\r",
      "2it [01:10, 46.84s/it]"
     ]
    },
    {
     "name": "stdout",
     "output_type": "stream",
     "text": [
      "BOOK:  All of Statistics - Larry Wasserman - 2004\n",
      "Saving book...\n"
     ]
    },
    {
     "name": "stderr",
     "output_type": "stream",
     "text": [
      "\r",
      "3it [01:31, 39.29s/it]"
     ]
    },
    {
     "name": "stdout",
     "output_type": "stream",
     "text": [
      "BOOK:  Social Anxiety and Social Phobia in Youth - Christopher Kearney - 2005\n",
      "Saving book...\n"
     ]
    },
    {
     "name": "stderr",
     "output_type": "stream",
     "text": [
      "\r",
      "4it [01:35, 28.57s/it]"
     ]
    },
    {
     "name": "stdout",
     "output_type": "stream",
     "text": [
      "BOOK:  Discrete Mathematics - Laszlo Lovasz et al. - 2003\n",
      "Saving book...\n"
     ]
    },
    {
     "name": "stderr",
     "output_type": "stream",
     "text": [
      "\r",
      "5it [02:04, 28.61s/it]"
     ]
    },
    {
     "name": "stdout",
     "output_type": "stream",
     "text": [
      "BOOK:  Developmental Neurobiology - Mahendra S. Rao et al. - 4th ed. 2005\n",
      "Saving book...\n"
     ]
    },
    {
     "name": "stderr",
     "output_type": "stream",
     "text": [
      "\r",
      "6it [02:15, 23.51s/it]"
     ]
    },
    {
     "name": "stdout",
     "output_type": "stream",
     "text": [
      "BOOK:  Intuitive Probability and Random Processes using MATLAB - Steven Kay - 2006\n",
      "Saving book...\n"
     ]
    },
    {
     "name": "stderr",
     "output_type": "stream",
     "text": [
      "\r",
      "7it [03:25, 37.25s/it]"
     ]
    },
    {
     "name": "stdout",
     "output_type": "stream",
     "text": [
      "BOOK:  Handbook of Disaster Research - Havidan Rodriguez et al. - 2006\n",
      "Saving book...\n"
     ]
    },
    {
     "name": "stderr",
     "output_type": "stream",
     "text": [
      "\r",
      "8it [03:31, 28.05s/it]"
     ]
    },
    {
     "name": "stdout",
     "output_type": "stream",
     "text": [
      "BOOK:  Handbook of the Sociology of Gender - Janet Saltzman Chafetz - 1999\n",
      "Saving book...\n"
     ]
    },
    {
     "name": "stderr",
     "output_type": "stream",
     "text": [
      "\r",
      "9it [04:11, 31.45s/it]"
     ]
    },
    {
     "name": "stdout",
     "output_type": "stream",
     "text": [
      "BOOK:  Handbook of Sociological Theory - Jonathan H. Turner - 2001\n",
      "Saving book...\n"
     ]
    },
    {
     "name": "stderr",
     "output_type": "stream",
     "text": [
      "\r",
      "10it [04:57, 35.83s/it]"
     ]
    },
    {
     "name": "stdout",
     "output_type": "stream",
     "text": [
      "BOOK:  Clinical Neuroanatomy - John Mendoza et al. - 2008\n",
      "Saving book...\n"
     ]
    },
    {
     "name": "stderr",
     "output_type": "stream",
     "text": [
      "\r",
      "11it [06:42, 56.80s/it]"
     ]
    },
    {
     "name": "stdout",
     "output_type": "stream",
     "text": [
      "BOOK:  Acquired Brain Injury - Jean Elbaum et al. - 2007\n",
      "Saving book...\n"
     ]
    },
    {
     "name": "stderr",
     "output_type": "stream",
     "text": [
      "\r",
      "12it [06:46, 40.97s/it]"
     ]
    },
    {
     "name": "stdout",
     "output_type": "stream",
     "text": [
      "BOOK:  Numerical Optimization - Jorge Nocedal et al. - 2nd ed. 2006\n",
      "Saving book...\n"
     ]
    },
    {
     "name": "stderr",
     "output_type": "stream",
     "text": [
      "\r",
      "13it [06:52, 30.35s/it]"
     ]
    },
    {
     "name": "stdout",
     "output_type": "stream",
     "text": [
      "BOOK:  Handbook of Biological Confocal Microscopy - James Pawley - 3rd ed. 2006\n",
      "Saving book...\n"
     ]
    },
    {
     "name": "stderr",
     "output_type": "stream",
     "text": [
      "\r",
      "14it [13:12, 135.24s/it]"
     ]
    },
    {
     "name": "stdout",
     "output_type": "stream",
     "text": [
      "BOOK:  Ceramic Materials - C. Barry Carter et al. - 2007\n",
      "Saving book...\n"
     ]
    },
    {
     "name": "stderr",
     "output_type": "stream",
     "text": [
      "\r",
      "15it [13:32, 100.60s/it]"
     ]
    },
    {
     "name": "stdout",
     "output_type": "stream",
     "text": [
      "BOOK:  Principles of Fluorescence Spectroscopy - Joseph R. Lakowicz - 3rd ed. 2006\n",
      "Saving book...\n"
     ]
    },
    {
     "name": "stderr",
     "output_type": "stream",
     "text": [
      "\r",
      "16it [14:46, 92.74s/it] "
     ]
    },
    {
     "name": "stdout",
     "output_type": "stream",
     "text": [
      "BOOK:  Fundamentals of Biomechanics - Duane Knudson - 2nd ed. 2007\n",
      "Saving book...\n"
     ]
    },
    {
     "name": "stderr",
     "output_type": "stream",
     "text": [
      "\r",
      "17it [15:17, 74.08s/it]"
     ]
    },
    {
     "name": "stdout",
     "output_type": "stream",
     "text": [
      "BOOK:  Primer on the Rheumatic Diseases - John H. Klippel et al. - 13th ed. 2008\n",
      "Saving book...\n"
     ]
    },
    {
     "name": "stderr",
     "output_type": "stream",
     "text": [
      "\r",
      "18it [17:10, 85.93s/it]"
     ]
    },
    {
     "name": "stdout",
     "output_type": "stream",
     "text": [
      "BOOK:  International Handbook of Historical Archaeology - Teresita Majewski et al. - 2009\n",
      "Saving book...\n"
     ]
    },
    {
     "name": "stderr",
     "output_type": "stream",
     "text": [
      "\r",
      "19it [17:28, 65.53s/it]"
     ]
    },
    {
     "name": "stdout",
     "output_type": "stream",
     "text": [
      "BOOK:  Database Marketing - Robert C. Blattberg et al. - 2008\n",
      "Saving book...\n"
     ]
    },
    {
     "name": "stderr",
     "output_type": "stream",
     "text": [
      "\r",
      "20it [17:38, 48.96s/it]"
     ]
    },
    {
     "name": "stdout",
     "output_type": "stream",
     "text": [
      "BOOK:  Composite Materials - Krishan K. Chawla - 3rd ed. 2012\n",
      "Saving book...\n"
     ]
    },
    {
     "name": "stderr",
     "output_type": "stream",
     "text": [
      "\r",
      "21it [17:53, 38.61s/it]"
     ]
    },
    {
     "name": "stdout",
     "output_type": "stream",
     "text": [
      "BOOK:  Time Series Analysis - Jonathan D. Cryer et al. - 2nd ed. 2008\n",
      "Saving book...\n"
     ]
    },
    {
     "name": "stderr",
     "output_type": "stream",
     "text": [
      "\r",
      "22it [18:00, 29.16s/it]"
     ]
    },
    {
     "name": "stdout",
     "output_type": "stream",
     "text": [
      "BOOK:  Transmission Electron Microscopy - David B. Williams et al. - 2nd ed. 2009\n",
      "Saving book...\n"
     ]
    },
    {
     "name": "stderr",
     "output_type": "stream",
     "text": [
      "\r",
      "23it [18:39, 32.11s/it]"
     ]
    },
    {
     "name": "stdout",
     "output_type": "stream",
     "text": [
      "BOOK:  Handbook of Quantitative Criminology - Alex R. Piquero et al. - 1st ed. 2010\n",
      "Saving book...\n"
     ]
    },
    {
     "name": "stderr",
     "output_type": "stream",
     "text": [
      "\r",
      "24it [18:53, 26.68s/it]"
     ]
    },
    {
     "name": "stdout",
     "output_type": "stream",
     "text": [
      "BOOK:  Plant Physiological Ecology - Hans Lambers et al. - 2nd ed. 2008\n",
      "Saving book...\n"
     ]
    },
    {
     "name": "stderr",
     "output_type": "stream",
     "text": [
      "\r",
      "25it [19:12, 24.47s/it]"
     ]
    },
    {
     "name": "stdout",
     "output_type": "stream",
     "text": [
      "BOOK:  Introductory Statistics with R - Peter Dalgaard - 2nd ed. 2008\n",
      "Saving book...\n"
     ]
    },
    {
     "name": "stderr",
     "output_type": "stream",
     "text": [
      "\r",
      "26it [19:17, 18.56s/it]"
     ]
    },
    {
     "name": "stdout",
     "output_type": "stream",
     "text": [
      "BOOK:  The Elements of Statistical Learning - Trevor Hastie et al. - 2nd ed. 2009\n",
      "Saving book...\n"
     ]
    },
    {
     "name": "stderr",
     "output_type": "stream",
     "text": [
      "\r",
      "27it [19:34, 17.94s/it]"
     ]
    },
    {
     "name": "stdout",
     "output_type": "stream",
     "text": [
      "BOOK:  Psychology, Religion, and Spirituality - James M. Nelson - 2009\n",
      "Saving book...\n"
     ]
    },
    {
     "name": "stderr",
     "output_type": "stream",
     "text": [
      "\r",
      "28it [19:39, 14.14s/it]"
     ]
    },
    {
     "name": "stdout",
     "output_type": "stream",
     "text": [
      "BOOK:  Introductory Time Series with R - Paul S.P. Cowpertwait et al. - 2009\n",
      "Saving book...\n"
     ]
    },
    {
     "name": "stderr",
     "output_type": "stream",
     "text": [
      "\r",
      "29it [19:43, 11.10s/it]"
     ]
    },
    {
     "name": "stdout",
     "output_type": "stream",
     "text": [
      "BOOK:  Child Neuropsychology - Margaret Semrud-Clikeman et al. - 2nd ed. 2009\n",
      "Saving book...\n"
     ]
    },
    {
     "name": "stderr",
     "output_type": "stream",
     "text": [
      "\r",
      "30it [19:56, 11.64s/it]"
     ]
    },
    {
     "name": "stdout",
     "output_type": "stream",
     "text": [
      "BOOK:  A Beginner's Guide to R - Alain Zuur et al. - 2009\n",
      "Saving book...\n"
     ]
    },
    {
     "name": "stderr",
     "output_type": "stream",
     "text": [
      "\r",
      "31it [20:03, 10.34s/it]"
     ]
    },
    {
     "name": "stdout",
     "output_type": "stream",
     "text": [
      "BOOK:  Geomorphology of Desert Environments - Anthony J. Parsons et al. - 2nd ed. 2009\n",
      "Saving book...\n"
     ]
    },
    {
     "name": "stderr",
     "output_type": "stream",
     "text": [
      "\r",
      "32it [21:48, 38.73s/it]"
     ]
    },
    {
     "name": "stdout",
     "output_type": "stream",
     "text": [
      "BOOK:  The Joy of Science - Richard A. Lockshin - 2007\n",
      "Saving book...\n"
     ]
    },
    {
     "name": "stderr",
     "output_type": "stream",
     "text": [
      "\r",
      "33it [22:29, 39.38s/it]"
     ]
    },
    {
     "name": "stdout",
     "output_type": "stream",
     "text": [
      "BOOK:  Fatigue of Structures and Materials - J. Schijve - 2nd ed. 2009\n",
      "Saving book...\n"
     ]
    },
    {
     "name": "stderr",
     "output_type": "stream",
     "text": [
      "\r",
      "34it [23:13, 40.86s/it]"
     ]
    },
    {
     "name": "stdout",
     "output_type": "stream",
     "text": [
      "BOOK:  Essential Astrophysics - Kenneth R. Lang - 2013\n",
      "Saving book...\n"
     ]
    },
    {
     "name": "stderr",
     "output_type": "stream",
     "text": [
      "\r",
      "35it [23:26, 32.52s/it]"
     ]
    },
    {
     "name": "stdout",
     "output_type": "stream",
     "text": [
      "BOOK:  Introduction to Evolutionary Computing - A.E. Eiben et al. - 2nd ed. 2015\n",
      "Saving book...\n"
     ]
    },
    {
     "name": "stderr",
     "output_type": "stream",
     "text": [
      "\r",
      "36it [23:32, 24.44s/it]"
     ]
    },
    {
     "name": "stdout",
     "output_type": "stream",
     "text": [
      "BOOK:  Data Analysis - Siegmund Brandt - 4th ed. 2014\n",
      "Saving book...\n"
     ]
    },
    {
     "name": "stderr",
     "output_type": "stream",
     "text": [
      "\r",
      "37it [23:42, 20.22s/it]"
     ]
    },
    {
     "name": "stdout",
     "output_type": "stream",
     "text": [
      "BOOK:  International Perspectives on Psychotherapy - Stefan G. Hofmann - 1st ed. 2017\n",
      "Saving book...\n"
     ]
    },
    {
     "name": "stderr",
     "output_type": "stream",
     "text": [
      "\r",
      "38it [23:46, 15.42s/it]"
     ]
    },
    {
     "name": "stdout",
     "output_type": "stream",
     "text": [
      "BOOK:  Electrical Machines - Slobodan N. Vukosavic - 2012\n",
      "Saving book...\n"
     ]
    },
    {
     "name": "stderr",
     "output_type": "stream",
     "text": [
      "\r",
      "39it [23:55, 13.34s/it]"
     ]
    },
    {
     "name": "stdout",
     "output_type": "stream",
     "text": [
      "BOOK:  Mechanics and Thermodynamics - Wolfgang Demtroder - 1st ed. 2017\n",
      "Saving book...\n"
     ]
    },
    {
     "name": "stderr",
     "output_type": "stream",
     "text": [
      "\r",
      "40it [24:13, 14.88s/it]"
     ]
    },
    {
     "name": "stdout",
     "output_type": "stream",
     "text": [
      "BOOK:  Applied Behavior Analysis - Kimberly Maich et al. - 1st ed. 2016\n",
      "Saving book...\n"
     ]
    },
    {
     "name": "stderr",
     "output_type": "stream",
     "text": [
      "\r",
      "41it [24:22, 12.90s/it]"
     ]
    },
    {
     "name": "stdout",
     "output_type": "stream",
     "text": [
      "BOOK:  Reading, Writing, and Proving - Ulrich Daepp et al. - 2nd ed. 2011\n",
      "Saving book...\n"
     ]
    },
    {
     "name": "stderr",
     "output_type": "stream",
     "text": [
      "\r",
      "42it [24:29, 11.35s/it]"
     ]
    },
    {
     "name": "stdout",
     "output_type": "stream",
     "text": [
      "BOOK:  Linear and Nonlinear Programming - David G. Luenberger et al. - 4th ed. 2016\n",
      "Saving book...\n"
     ]
    },
    {
     "name": "stderr",
     "output_type": "stream",
     "text": [
      "\r",
      "43it [24:36,  9.82s/it]"
     ]
    },
    {
     "name": "stdout",
     "output_type": "stream",
     "text": [
      "BOOK:  Introduction to Partial Differential Equations - David Borthwick - 1st ed. 2016\n",
      "Saving book...\n"
     ]
    },
    {
     "name": "stderr",
     "output_type": "stream",
     "text": [
      "\r",
      "44it [24:42,  8.89s/it]"
     ]
    },
    {
     "name": "stdout",
     "output_type": "stream",
     "text": [
      "BOOK:  Energy Storage - Robert Huggins - 2nd ed. 2016\n",
      "Saving book...\n"
     ]
    },
    {
     "name": "stderr",
     "output_type": "stream",
     "text": [
      "\r",
      "45it [24:53,  9.45s/it]"
     ]
    },
    {
     "name": "stdout",
     "output_type": "stream",
     "text": [
      "BOOK:  Metabolism of Human Diseases - Eckhard Lammert et al. - 2014\n",
      "Saving book...\n"
     ]
    },
    {
     "name": "stderr",
     "output_type": "stream",
     "text": [
      "\r",
      "46it [25:08, 11.17s/it]"
     ]
    },
    {
     "name": "stdout",
     "output_type": "stream",
     "text": [
      "BOOK:  Sensory Evaluation of Food - Harry T. Lawless et al. - 2nd ed. 2010\n",
      "Saving book...\n"
     ]
    },
    {
     "name": "stderr",
     "output_type": "stream",
     "text": [
      "\r",
      "47it [25:19, 11.04s/it]"
     ]
    },
    {
     "name": "stdout",
     "output_type": "stream",
     "text": [
      "BOOK:  Fundamentals of Robotic Mechanical Systems - Jorge Angeles - 4th ed. 2014\n",
      "Saving book...\n"
     ]
    },
    {
     "name": "stderr",
     "output_type": "stream",
     "text": [
      "\r",
      "48it [25:30, 10.92s/it]"
     ]
    },
    {
     "name": "stdout",
     "output_type": "stream",
     "text": [
      "BOOK:  Integrative Human Biochemistry - Andrea T. da Poian et al. - 1st ed. 2015\n",
      "Saving book...\n"
     ]
    },
    {
     "name": "stderr",
     "output_type": "stream",
     "text": [
      "\r",
      "49it [25:53, 14.71s/it]"
     ]
    },
    {
     "name": "stdout",
     "output_type": "stream",
     "text": [
      "BOOK:  Philosophy of Science for Scientists - Lars-Goran Johansson - 1st ed. 2016\n",
      "Saving book...\n"
     ]
    },
    {
     "name": "stderr",
     "output_type": "stream",
     "text": [
      "\r",
      "50it [25:58, 11.71s/it]"
     ]
    },
    {
     "name": "stdout",
     "output_type": "stream",
     "text": [
      "BOOK:  Particles and Nuclei - Bogdan Povh et al. - 7th ed. 2015\n",
      "Saving book...\n"
     ]
    },
    {
     "name": "stderr",
     "output_type": "stream",
     "text": [
      "\r",
      "51it [26:08, 11.28s/it]"
     ]
    },
    {
     "name": "stdout",
     "output_type": "stream",
     "text": [
      "BOOK:  Data Structures and Algorithms with Python - Kent D. Lee et al. - 2015\n",
      "Saving book...\n"
     ]
    },
    {
     "name": "stderr",
     "output_type": "stream",
     "text": [
      "\r",
      "52it [26:22, 12.11s/it]"
     ]
    },
    {
     "name": "stdout",
     "output_type": "stream",
     "text": [
      "BOOK:  LGBT-Parent Families - Abbie E. Goldberg et al. - 2013\n",
      "Saving book...\n"
     ]
    },
    {
     "name": "stderr",
     "output_type": "stream",
     "text": [
      "\r",
      "53it [26:27, 10.01s/it]"
     ]
    },
    {
     "name": "stdout",
     "output_type": "stream",
     "text": [
      "BOOK:  Integrated Neuroscience - Elliott M. Marcus et al. - 2003\n",
      "Saving book...\n"
     ]
    },
    {
     "name": "stderr",
     "output_type": "stream",
     "text": [
      "\r",
      "54it [28:02, 35.44s/it]"
     ]
    },
    {
     "name": "stdout",
     "output_type": "stream",
     "text": [
      "BOOK:  Introduction to Partial Differential Equations - Peter J. Olver - 2014\n",
      "Saving book...\n"
     ]
    },
    {
     "name": "stderr",
     "output_type": "stream",
     "text": [
      "\r",
      "55it [28:59, 41.89s/it]"
     ]
    },
    {
     "name": "stdout",
     "output_type": "stream",
     "text": [
      "BOOK:  Microeconomics - Peter Dorman - 2014\n",
      "Saving book...\n"
     ]
    },
    {
     "name": "stderr",
     "output_type": "stream",
     "text": [
      "\r",
      "56it [29:05, 31.20s/it]"
     ]
    },
    {
     "name": "stdout",
     "output_type": "stream",
     "text": [
      "BOOK:  System Dynamics - Bilash Kanti Bala et al. - 1st ed. 2017\n",
      "Saving book...\n"
     ]
    },
    {
     "name": "stderr",
     "output_type": "stream",
     "text": [
      "\r",
      "57it [29:17, 25.41s/it]"
     ]
    },
    {
     "name": "stdout",
     "output_type": "stream",
     "text": [
      "BOOK:  Cosmology for the Curious - Delia Perlov et al. - 1st ed. 2017\n",
      "Saving book...\n"
     ]
    },
    {
     "name": "stderr",
     "output_type": "stream",
     "text": [
      "\r",
      "58it [29:32, 22.21s/it]"
     ]
    },
    {
     "name": "stdout",
     "output_type": "stream",
     "text": [
      "BOOK:  Methods of Mathematical Modelling - Thomas Witelski et al. - 1st ed. 2015\n",
      "Saving book...\n"
     ]
    },
    {
     "name": "stderr",
     "output_type": "stream",
     "text": [
      "\r",
      "59it [29:38, 17.38s/it]"
     ]
    },
    {
     "name": "stdout",
     "output_type": "stream",
     "text": [
      "BOOK:  Introduction to Logic Circuits & Logic Design with Verilog - Brock J. LaMeres - 1st ed. 2017\n",
      "Saving book...\n"
     ]
    },
    {
     "name": "stderr",
     "output_type": "stream",
     "text": [
      "\r",
      "60it [30:20, 24.84s/it]"
     ]
    },
    {
     "name": "stdout",
     "output_type": "stream",
     "text": [
      "BOOK:  Structural Analysis - O. A. Bauchau et al. - 2009\n",
      "Saving book...\n"
     ]
    },
    {
     "name": "stderr",
     "output_type": "stream",
     "text": [
      "\r",
      "61it [30:37, 22.50s/it]"
     ]
    },
    {
     "name": "stdout",
     "output_type": "stream",
     "text": [
      "BOOK:  Engineering Flow and Heat Exchange - Octave Levenspiel - 3rd ed. 2014\n",
      "Saving book...\n"
     ]
    },
    {
     "name": "stderr",
     "output_type": "stream",
     "text": [
      "\r",
      "62it [30:51, 19.72s/it]"
     ]
    },
    {
     "name": "stdout",
     "output_type": "stream",
     "text": [
      "BOOK:  Enterprise Risk Management Models - David L. Olson et al. - 2nd ed. 2017\n",
      "Saving book...\n"
     ]
    },
    {
     "name": "stderr",
     "output_type": "stream",
     "text": [
      "\r",
      "63it [30:57, 15.81s/it]"
     ]
    },
    {
     "name": "stdout",
     "output_type": "stream",
     "text": [
      "BOOK:  Reactive Power Control in AC Power Systems - Naser Mahdavi Tabatabaei et al. - 1st ed. 2017\n",
      "Saving book...\n"
     ]
    },
    {
     "name": "stderr",
     "output_type": "stream",
     "text": [
      "\r",
      "64it [31:22, 18.42s/it]"
     ]
    },
    {
     "name": "stdout",
     "output_type": "stream",
     "text": [
      "BOOK:  Principles of Microeconomics - Martin Kolmar - 1st ed. 2017\n",
      "Saving book...\n"
     ]
    },
    {
     "name": "stderr",
     "output_type": "stream",
     "text": [
      "\r",
      "65it [31:27, 14.32s/it]"
     ]
    },
    {
     "name": "stdout",
     "output_type": "stream",
     "text": [
      "BOOK:  Additive Manufacturing Technologies - Ian Gibson et al. - 2010\n",
      "Saving book...\n"
     ]
    },
    {
     "name": "stderr",
     "output_type": "stream",
     "text": [
      "\r",
      "66it [31:36, 12.82s/it]"
     ]
    },
    {
     "name": "stdout",
     "output_type": "stream",
     "text": [
      "BOOK:  Principles of Physics - Hafez  A . Radi et al. - 2012\n",
      "Saving book...\n"
     ]
    },
    {
     "name": "stderr",
     "output_type": "stream",
     "text": [
      "\r",
      "67it [32:43, 29.07s/it]"
     ]
    },
    {
     "name": "stdout",
     "output_type": "stream",
     "text": [
      "BOOK:  Fundamentals of Biomechanics - Nihat Ozkaya et al. - 4th ed. 2017\n",
      "Saving book...\n"
     ]
    },
    {
     "name": "stderr",
     "output_type": "stream",
     "text": [
      "\r",
      "68it [32:54, 23.79s/it]"
     ]
    },
    {
     "name": "stdout",
     "output_type": "stream",
     "text": [
      "BOOK:  Irrigation and Drainage Engineering - Peter Waller et al. - 1st ed. 2016\n",
      "Saving book...\n"
     ]
    },
    {
     "name": "stderr",
     "output_type": "stream",
     "text": [
      "\r",
      "69it [33:59, 35.94s/it]"
     ]
    },
    {
     "name": "stdout",
     "output_type": "stream",
     "text": [
      "BOOK:  LaTeX in 24 Hours - Dilip Datta - 1st ed. 2017\n",
      "Saving book...\n"
     ]
    },
    {
     "name": "stderr",
     "output_type": "stream",
     "text": [
      "\r",
      "70it [34:08, 27.80s/it]"
     ]
    },
    {
     "name": "stdout",
     "output_type": "stream",
     "text": [
      "BOOK:  Psychology of Perception - Simon Grondin - 1st ed. 2016\n",
      "Saving book...\n"
     ]
    },
    {
     "name": "stderr",
     "output_type": "stream",
     "text": [
      "\r",
      "71it [34:13, 21.07s/it]"
     ]
    },
    {
     "name": "stdout",
     "output_type": "stream",
     "text": [
      "BOOK:  Extragalactic Astronomy and Cosmology - Peter Schneider - 2nd ed. 2015\n",
      "Saving book...\n"
     ]
    },
    {
     "name": "stderr",
     "output_type": "stream",
     "text": [
      "\r",
      "72it [35:05, 30.28s/it]"
     ]
    },
    {
     "name": "stdout",
     "output_type": "stream",
     "text": [
      "BOOK:  Automata and Computability - Dexter C. Kozen - 1997\n",
      "Saving book...\n"
     ]
    },
    {
     "name": "stderr",
     "output_type": "stream",
     "text": [
      "\r",
      "73it [35:26, 27.52s/it]"
     ]
    },
    {
     "name": "stdout",
     "output_type": "stream",
     "text": [
      "BOOK:  The Algorithm Design Manual - Steven S Skiena - 2nd ed. 2008\n",
      "Saving book...\n"
     ]
    },
    {
     "name": "stderr",
     "output_type": "stream",
     "text": [
      "\r",
      "74it [35:33, 21.36s/it]"
     ]
    },
    {
     "name": "stdout",
     "output_type": "stream",
     "text": [
      "BOOK:  Chemical Thermodynamics - Erno Keszei - 2012\n",
      "Saving book...\n"
     ]
    },
    {
     "name": "stderr",
     "output_type": "stream",
     "text": [
      "\r",
      "75it [35:40, 17.18s/it]"
     ]
    },
    {
     "name": "stdout",
     "output_type": "stream",
     "text": [
      "BOOK:  Computational Physics - Philipp O.J. Scherer - 3rd ed. 2017\n",
      "Saving book...\n"
     ]
    },
    {
     "name": "stderr",
     "output_type": "stream",
     "text": [
      "\r",
      "76it [35:56, 16.67s/it]"
     ]
    },
    {
     "name": "stdout",
     "output_type": "stream",
     "text": [
      "BOOK:  Introduction to Statistics and Data Analysis  - Christian Heumann et al. - 1st ed. 2016\n",
      "Saving book...\n"
     ]
    },
    {
     "name": "stderr",
     "output_type": "stream",
     "text": [
      "\r",
      "77it [36:07, 14.96s/it]"
     ]
    },
    {
     "name": "stdout",
     "output_type": "stream",
     "text": [
      "BOOK:  Grammar for Teachers - Andrea DeCapua - 2nd ed. 2017\n",
      "Saving book...\n"
     ]
    },
    {
     "name": "stderr",
     "output_type": "stream",
     "text": [
      "\r",
      "78it [36:14, 12.57s/it]"
     ]
    },
    {
     "name": "stdout",
     "output_type": "stream",
     "text": [
      "BOOK:  Time Series Econometrics - Klaus Neusser - 1st ed. 2016\n",
      "Saving book...\n"
     ]
    },
    {
     "name": "stderr",
     "output_type": "stream",
     "text": [
      "\r",
      "79it [36:21, 11.10s/it]"
     ]
    },
    {
     "name": "stdout",
     "output_type": "stream",
     "text": [
      "BOOK:  Electrochemistry - Christine Lefrou et al. - 2012\n",
      "Saving book...\n"
     ]
    },
    {
     "name": "stderr",
     "output_type": "stream",
     "text": [
      "\r",
      "80it [36:50, 16.29s/it]"
     ]
    },
    {
     "name": "stdout",
     "output_type": "stream",
     "text": [
      "BOOK:  Classical Fourier Analysis - Loukas Grafakos - 3rd ed. 2014\n",
      "Saving book...\n"
     ]
    },
    {
     "name": "stderr",
     "output_type": "stream",
     "text": [
      "\r",
      "81it [37:07, 16.68s/it]"
     ]
    },
    {
     "name": "stdout",
     "output_type": "stream",
     "text": [
      "BOOK:  Human Chromosomes - Orlando J. Miller et al. - 4th ed. 2001\n",
      "Saving book...\n"
     ]
    },
    {
     "name": "stderr",
     "output_type": "stream",
     "text": [
      "\r",
      "82it [37:43, 22.54s/it]"
     ]
    },
    {
     "name": "stdout",
     "output_type": "stream",
     "text": [
      "BOOK:  Phylogenomics - Christoph Bleidorn - 1st ed. 2017\n",
      "Saving book...\n"
     ]
    },
    {
     "name": "stderr",
     "output_type": "stream",
     "text": [
      "\r",
      "83it [37:53, 18.54s/it]"
     ]
    },
    {
     "name": "stdout",
     "output_type": "stream",
     "text": [
      "BOOK:  Quantum Theory for Mathematicians - Brian C. Hall - 2013\n",
      "Saving book...\n"
     ]
    },
    {
     "name": "stderr",
     "output_type": "stream",
     "text": [
      "\r",
      "84it [38:00, 15.04s/it]"
     ]
    },
    {
     "name": "stdout",
     "output_type": "stream",
     "text": [
      "BOOK:  Evidence-Based Critical Care - Robert C. Hyzy - 1st ed. 2017\n",
      "Saving book...\n"
     ]
    },
    {
     "name": "stderr",
     "output_type": "stream",
     "text": [
      "\r",
      "85it [38:39, 22.43s/it]"
     ]
    },
    {
     "name": "stdout",
     "output_type": "stream",
     "text": [
      "BOOK:  Clinical Assessment of Child and Adolescent Personality and Behavior - Paul J. Frick et al. - 3rd ed. 2010\n",
      "Saving book...\n"
     ]
    },
    {
     "name": "stderr",
     "output_type": "stream",
     "text": [
      "\r",
      "86it [38:47, 17.91s/it]"
     ]
    },
    {
     "name": "stdout",
     "output_type": "stream",
     "text": [
      "BOOK:  Design Research in Information Systems - Alan Hevner et al. - 2010\n",
      "Saving book...\n"
     ]
    },
    {
     "name": "stderr",
     "output_type": "stream",
     "text": [
      "\r",
      "87it [38:53, 14.57s/it]"
     ]
    },
    {
     "name": "stdout",
     "output_type": "stream",
     "text": [
      "BOOK:  Intermediate Physics for Medicine and Biology - Russell K. Hobbie et al. - 5th ed. 2015\n",
      "Saving book...\n"
     ]
    },
    {
     "name": "stderr",
     "output_type": "stream",
     "text": [
      "\r",
      "88it [39:37, 23.19s/it]"
     ]
    },
    {
     "name": "stdout",
     "output_type": "stream",
     "text": [
      "BOOK:  Principles of Data Mining - Max Bramer - 3rd ed. 2016\n",
      "Saving book...\n"
     ]
    },
    {
     "name": "stderr",
     "output_type": "stream",
     "text": [
      "\r",
      "89it [39:42, 17.97s/it]"
     ]
    },
    {
     "name": "stdout",
     "output_type": "stream",
     "text": [
      "BOOK:  Fundamental Astronomy - Hannu Karttunen et al. - 6th ed. 2017\n",
      "Saving book...\n"
     ]
    },
    {
     "name": "stderr",
     "output_type": "stream",
     "text": [
      "\r",
      "90it [40:09, 20.42s/it]"
     ]
    },
    {
     "name": "stdout",
     "output_type": "stream",
     "text": [
      "BOOK:  Fundamentals of Business Process Management - Marlon Dumas et al. - 2013\n",
      "Saving book...\n"
     ]
    },
    {
     "name": "stderr",
     "output_type": "stream",
     "text": [
      "\r",
      "91it [40:21, 17.98s/it]"
     ]
    },
    {
     "name": "stdout",
     "output_type": "stream",
     "text": [
      "BOOK:  Brownian Motion, Martingales, and Stochastic Calculus  - Jean-Francois Le Gall - 1st ed. 2016\n",
      "Saving book...\n"
     ]
    },
    {
     "name": "stderr",
     "output_type": "stream",
     "text": [
      "\r",
      "92it [40:28, 14.68s/it]"
     ]
    },
    {
     "name": "stdout",
     "output_type": "stream",
     "text": [
      "BOOK:  UML @ Classroom - Martina Seidl et al. - 2015\n",
      "Saving book...\n"
     ]
    },
    {
     "name": "stderr",
     "output_type": "stream",
     "text": [
      "\r",
      "93it [40:31, 11.31s/it]"
     ]
    },
    {
     "name": "stdout",
     "output_type": "stream",
     "text": [
      "BOOK:  Design and Analysis of Experiments - Angela Dean et al. - 2nd ed. 2017\n",
      "Saving book...\n"
     ]
    },
    {
     "name": "stderr",
     "output_type": "stream",
     "text": [
      "\r",
      "94it [40:50, 13.56s/it]"
     ]
    },
    {
     "name": "stdout",
     "output_type": "stream",
     "text": [
      "BOOK:  Foundations for Designing User-Centered Systems - Frank E. Ritter et al. - 2014\n",
      "Saving book...\n"
     ]
    },
    {
     "name": "stderr",
     "output_type": "stream",
     "text": [
      "\r",
      "95it [41:00, 12.44s/it]"
     ]
    },
    {
     "name": "stdout",
     "output_type": "stream",
     "text": [
      "BOOK:  Handbook of Consumer Finance Research - Jing Jian Xiao - 2nd ed. 2016\n",
      "Saving book...\n"
     ]
    },
    {
     "name": "stderr",
     "output_type": "stream",
     "text": [
      "\r",
      "96it [41:10, 11.67s/it]"
     ]
    },
    {
     "name": "stdout",
     "output_type": "stream",
     "text": [
      "BOOK:  Principles of Terrestrial Ecosystem Ecology - F Stuart Chapin III et al. - 2nd ed. 2012\n",
      "Saving book...\n"
     ]
    },
    {
     "name": "stderr",
     "output_type": "stream",
     "text": [
      "\r",
      "97it [41:32, 14.96s/it]"
     ]
    },
    {
     "name": "stdout",
     "output_type": "stream",
     "text": [
      "BOOK:  Applied Multivariate Statistical Analysis - Wolfgang Karl Hardle et al. - 4th ed. 2015\n",
      "Saving book...\n"
     ]
    },
    {
     "name": "stderr",
     "output_type": "stream",
     "text": [
      "\r",
      "98it [41:45, 14.14s/it]"
     ]
    },
    {
     "name": "stdout",
     "output_type": "stream",
     "text": [
      "BOOK:  Strategic International Management - Dirk Morschett et al. - 2nd ed. 2010\n",
      "Saving book...\n"
     ]
    },
    {
     "name": "stderr",
     "output_type": "stream",
     "text": [
      "\r",
      "99it [42:59, 32.30s/it]"
     ]
    },
    {
     "name": "stdout",
     "output_type": "stream",
     "text": [
      "BOOK:  Computer Vision - Richard Szeliski - 2011\n",
      "Saving book...\n"
     ]
    },
    {
     "name": "stderr",
     "output_type": "stream",
     "text": [
      "\r",
      "100it [43:45, 36.37s/it]"
     ]
    },
    {
     "name": "stdout",
     "output_type": "stream",
     "text": [
      "BOOK:  Engineering Electromagnetics - Nathan Ida - 3rd ed. 2015\n",
      "Saving book...\n"
     ]
    },
    {
     "name": "stderr",
     "output_type": "stream",
     "text": [
      "\r",
      "101it [43:59, 29.50s/it]"
     ]
    },
    {
     "name": "stdout",
     "output_type": "stream",
     "text": [
      "BOOK:  Data Mining - Charu C. Aggarwal - 2015\n",
      "Saving book...\n"
     ]
    },
    {
     "name": "stderr",
     "output_type": "stream",
     "text": [
      "\r",
      "102it [44:14, 25.32s/it]"
     ]
    },
    {
     "name": "stdout",
     "output_type": "stream",
     "text": [
      "BOOK:  International Trade Theory and Policy - Giancarlo Gandolfo - 2nd ed. 2014\n",
      "Saving book...\n"
     ]
    },
    {
     "name": "stderr",
     "output_type": "stream",
     "text": [
      "\r",
      "103it [44:23, 20.38s/it]"
     ]
    },
    {
     "name": "stdout",
     "output_type": "stream",
     "text": [
      "BOOK:  Alternative Energy Sources - Efstathios E (Stathis) Michaelides - 2012\n",
      "Saving book...\n"
     ]
    },
    {
     "name": "stderr",
     "output_type": "stream",
     "text": [
      "\r",
      "104it [44:36, 18.24s/it]"
     ]
    },
    {
     "name": "stdout",
     "output_type": "stream",
     "text": [
      "BOOK:  Introduction to Electronic Commerce and Social Commerce - Efraim Turban et al. - 4th ed. 2017\n",
      "Saving book...\n"
     ]
    },
    {
     "name": "stderr",
     "output_type": "stream",
     "text": [
      "\r",
      "105it [44:47, 16.03s/it]"
     ]
    },
    {
     "name": "stdout",
     "output_type": "stream",
     "text": [
      "BOOK:  Computational Geometry - Mark de Berg et al. - 3rd ed. 2008\n",
      "Saving book...\n"
     ]
    },
    {
     "name": "stderr",
     "output_type": "stream",
     "text": [
      "\r",
      "106it [44:53, 12.82s/it]"
     ]
    },
    {
     "name": "stdout",
     "output_type": "stream",
     "text": [
      "BOOK:  Elementary Mechanics Using Python - Anders Malthe-Srenssen - 2015\n",
      "Saving book...\n"
     ]
    },
    {
     "name": "stderr",
     "output_type": "stream",
     "text": [
      "\r",
      "107it [45:35, 21.63s/it]"
     ]
    },
    {
     "name": "stdout",
     "output_type": "stream",
     "text": [
      "BOOK:  Energy Economics - Peter Zweifel et al. - 1st ed. 2017\n",
      "Saving book...\n"
     ]
    },
    {
     "name": "stderr",
     "output_type": "stream",
     "text": [
      "\r",
      "108it [45:44, 18.07s/it]"
     ]
    },
    {
     "name": "stdout",
     "output_type": "stream",
     "text": [
      "BOOK:  Biomedical Informatics - Edward H. Shortliffe et al. - 4th ed. 2014\n",
      "Saving book...\n"
     ]
    },
    {
     "name": "stderr",
     "output_type": "stream",
     "text": [
      "\r",
      "109it [46:11, 20.50s/it]"
     ]
    },
    {
     "name": "stdout",
     "output_type": "stream",
     "text": [
      "BOOK:  Robotics, Vision and Control - Peter Corke - 2nd ed. 2017\n",
      "Saving book...\n"
     ]
    },
    {
     "name": "stderr",
     "output_type": "stream",
     "text": [
      "\r",
      "110it [47:41, 41.41s/it]"
     ]
    },
    {
     "name": "stdout",
     "output_type": "stream",
     "text": [
      "BOOK:  Acid-Base Diagrams - Heike Kahlert et al. - 2013\n",
      "Saving book...\n"
     ]
    },
    {
     "name": "stderr",
     "output_type": "stream",
     "text": [
      "\r",
      "111it [47:49, 31.50s/it]"
     ]
    },
    {
     "name": "stdout",
     "output_type": "stream",
     "text": [
      "BOOK:  Brewing Science A Multidisciplinary Approach - Michael Mosher et al. - 1st ed. 2017\n",
      "Saving book...\n"
     ]
    },
    {
     "name": "stderr",
     "output_type": "stream",
     "text": [
      "\r",
      "112it [48:03, 26.26s/it]"
     ]
    },
    {
     "name": "stdout",
     "output_type": "stream",
     "text": [
      "BOOK:  Learning Landscape Ecology - Sarah E. Gergel et al. - 2nd ed. 2017\n",
      "Saving book...\n"
     ]
    },
    {
     "name": "stderr",
     "output_type": "stream",
     "text": [
      "\r",
      "113it [48:14, 21.51s/it]"
     ]
    },
    {
     "name": "stdout",
     "output_type": "stream",
     "text": [
      "BOOK:  Probability - Jim Pitman - 1993\n",
      "Saving book...\n"
     ]
    },
    {
     "name": "stderr",
     "output_type": "stream",
     "text": [
      "\r",
      "114it [48:55, 27.42s/it]"
     ]
    },
    {
     "name": "stdout",
     "output_type": "stream",
     "text": [
      "BOOK:  Modeling Life - Alan Garfinkel et al. - 1st ed. 2017\n",
      "Saving book...\n"
     ]
    },
    {
     "name": "stderr",
     "output_type": "stream",
     "text": [
      "\r",
      "115it [49:12, 24.20s/it]"
     ]
    },
    {
     "name": "stdout",
     "output_type": "stream",
     "text": [
      "BOOK:  Introduction to Plasma Physics and Controlled Fusion - Francis Chen - 3rd ed. 2016\n",
      "Saving book...\n"
     ]
    },
    {
     "name": "stderr",
     "output_type": "stream",
     "text": [
      "\r",
      "116it [49:25, 21.11s/it]"
     ]
    },
    {
     "name": "stdout",
     "output_type": "stream",
     "text": [
      "BOOK:  Engineering Mechanics 1 - Dietmar Gross et al. - 2nd ed. 2013\n",
      "Saving book...\n"
     ]
    },
    {
     "name": "stderr",
     "output_type": "stream",
     "text": [
      "\r",
      "117it [49:33, 17.06s/it]"
     ]
    },
    {
     "name": "stdout",
     "output_type": "stream",
     "text": [
      "BOOK:  Business Statistics for Competitive Advantage with Excel 2016  - Cynthia Fraser - 1st ed. 2016\n",
      "Saving book...\n"
     ]
    },
    {
     "name": "stderr",
     "output_type": "stream",
     "text": [
      "\r",
      "118it [49:36, 12.88s/it]"
     ]
    },
    {
     "name": "stdout",
     "output_type": "stream",
     "text": [
      "BOOK:  Principles of Polymer Chemistry - A. Ravve - 3rd ed. 2012\n",
      "Saving book...\n"
     ]
    },
    {
     "name": "stderr",
     "output_type": "stream",
     "text": [
      "\r",
      "119it [50:59, 33.86s/it]"
     ]
    },
    {
     "name": "stdout",
     "output_type": "stream",
     "text": [
      "BOOK:  A Primer on Scientific Programming with Python - Hans Petter Langtangen - 5th ed. 2016\n",
      "Saving book...\n"
     ]
    },
    {
     "name": "stderr",
     "output_type": "stream",
     "text": [
      "\r",
      "120it [51:09, 26.71s/it]"
     ]
    },
    {
     "name": "stdout",
     "output_type": "stream",
     "text": [
      "BOOK:  Climate Change Science A Modern Synthesis - G. Thomas Farmer et al. - 2013\n",
      "Saving book...\n"
     ]
    },
    {
     "name": "stderr",
     "output_type": "stream",
     "text": [
      "\r",
      "121it [51:24, 23.24s/it]"
     ]
    },
    {
     "name": "stdout",
     "output_type": "stream",
     "text": [
      "BOOK:  Solar PV and Wind Energy Conversion Systems - S. Sumathi et al. - 2015\n",
      "Saving book...\n"
     ]
    },
    {
     "name": "stderr",
     "output_type": "stream",
     "text": [
      "\r",
      "122it [51:52, 24.56s/it]"
     ]
    },
    {
     "name": "stdout",
     "output_type": "stream",
     "text": [
      "BOOK:  Statistical Analysis and Data Display - Richard M. Heiberger et al. - 2nd ed. 2015\n",
      "Saving book...\n"
     ]
    },
    {
     "name": "stderr",
     "output_type": "stream",
     "text": [
      "\r",
      "123it [52:11, 22.92s/it]"
     ]
    },
    {
     "name": "stdout",
     "output_type": "stream",
     "text": [
      "BOOK:  Business Process Management Cases - Jan vom Brocke et al. - 1st ed. 2018\n",
      "Saving book...\n"
     ]
    },
    {
     "name": "stderr",
     "output_type": "stream",
     "text": [
      "\r",
      "124it [52:29, 21.42s/it]"
     ]
    },
    {
     "name": "stdout",
     "output_type": "stream",
     "text": [
      "BOOK:  Elementary Analysis - Kenneth A. Ross - 2nd ed. 2013\n",
      "Saving book...\n"
     ]
    },
    {
     "name": "stderr",
     "output_type": "stream",
     "text": [
      "\r",
      "125it [52:34, 16.56s/it]"
     ]
    },
    {
     "name": "stdout",
     "output_type": "stream",
     "text": [
      "BOOK:  Cryptography Made Simple - Nigel Smart - 1st ed. 2016\n",
      "Saving book...\n"
     ]
    },
    {
     "name": "stderr",
     "output_type": "stream",
     "text": [
      "\r",
      "126it [52:40, 13.51s/it]"
     ]
    },
    {
     "name": "stdout",
     "output_type": "stream",
     "text": [
      "BOOK:  Fluid Dynamics - Michel Rieutord - 2015\n",
      "Saving book...\n"
     ]
    },
    {
     "name": "stderr",
     "output_type": "stream",
     "text": [
      "\r",
      "127it [52:52, 12.91s/it]"
     ]
    },
    {
     "name": "stdout",
     "output_type": "stream",
     "text": [
      "BOOK:  Social Media Management - Amy Van Looy - 1st ed. 2016\n",
      "Saving book...\n"
     ]
    },
    {
     "name": "stderr",
     "output_type": "stream",
     "text": [
      "\r",
      "128it [53:01, 11.79s/it]"
     ]
    },
    {
     "name": "stdout",
     "output_type": "stream",
     "text": [
      "BOOK:  Statistics in Criminal Justice - David Weisburd et al. - 4th ed. 2014\n",
      "Saving book...\n"
     ]
    },
    {
     "name": "stderr",
     "output_type": "stream",
     "text": [
      "\r",
      "129it [53:10, 10.89s/it]"
     ]
    },
    {
     "name": "stdout",
     "output_type": "stream",
     "text": [
      "BOOK:  Supply Chain Management and Advanced Planning - Hartmut Stadtler et al. - 5th ed. 2015\n",
      "Saving book...\n"
     ]
    },
    {
     "name": "stderr",
     "output_type": "stream",
     "text": [
      "\r",
      "130it [53:26, 12.57s/it]"
     ]
    },
    {
     "name": "stdout",
     "output_type": "stream",
     "text": [
      "BOOK:  Probability Theory - Alexandr A. Borovkov - 2013\n",
      "Saving book...\n"
     ]
    },
    {
     "name": "stderr",
     "output_type": "stream",
     "text": [
      "\r",
      "131it [53:35, 11.36s/it]"
     ]
    },
    {
     "name": "stdout",
     "output_type": "stream",
     "text": [
      "BOOK:  Statistics and Data Analysis for Financial Engineering - David Ruppert et al. - 2nd ed. 2015\n",
      "Saving book...\n"
     ]
    },
    {
     "name": "stderr",
     "output_type": "stream",
     "text": [
      "\r",
      "132it [53:49, 12.10s/it]"
     ]
    },
    {
     "name": "stdout",
     "output_type": "stream",
     "text": [
      "BOOK:  Readings in Formal Epistemology - Horacio Arlo-Costa et al. - 1st ed. 2016\n",
      "Saving book...\n"
     ]
    },
    {
     "name": "stderr",
     "output_type": "stream",
     "text": [
      "\r",
      "133it [54:04, 12.89s/it]"
     ]
    },
    {
     "name": "stdout",
     "output_type": "stream",
     "text": [
      "BOOK:  Differential Equations and Their Applications - Martin Braun - 4th ed. 1993\n",
      "Saving book...\n"
     ]
    },
    {
     "name": "stderr",
     "output_type": "stream",
     "text": [
      "\r",
      "134it [54:50, 22.86s/it]"
     ]
    },
    {
     "name": "stdout",
     "output_type": "stream",
     "text": [
      "BOOK:  Nanotechnology Principles and Practices - Sulabha K. Kulkarni - 3rd ed. 2015\n",
      "Saving book...\n"
     ]
    },
    {
     "name": "stderr",
     "output_type": "stream",
     "text": [
      "\r",
      "135it [55:01, 19.44s/it]"
     ]
    },
    {
     "name": "stdout",
     "output_type": "stream",
     "text": [
      "BOOK:  Epidemiological Research Terms and Concepts - O. S. Miettinen - 2011\n",
      "Saving book...\n"
     ]
    },
    {
     "name": "stderr",
     "output_type": "stream",
     "text": [
      "\r",
      "136it [55:05, 14.63s/it]"
     ]
    },
    {
     "name": "stdout",
     "output_type": "stream",
     "text": [
      "BOOK:  Multinational Management - Rien Segers - 1st ed. 2016\n",
      "Saving book...\n"
     ]
    },
    {
     "name": "stderr",
     "output_type": "stream",
     "text": [
      "\r",
      "137it [55:13, 12.86s/it]"
     ]
    },
    {
     "name": "stdout",
     "output_type": "stream",
     "text": [
      "BOOK:  Partial Differential Equations - Jurgen Jost - 3rd ed. 2013\n",
      "Saving book...\n"
     ]
    },
    {
     "name": "stderr",
     "output_type": "stream",
     "text": [
      "\r",
      "138it [55:18, 10.52s/it]"
     ]
    },
    {
     "name": "stdout",
     "output_type": "stream",
     "text": [
      "BOOK:  Bayesian and Frequentist Regression Methods - Jon Wakefield - 2013\n",
      "Saving book...\n"
     ]
    },
    {
     "name": "stderr",
     "output_type": "stream",
     "text": [
      "\r",
      "139it [55:28, 10.38s/it]"
     ]
    },
    {
     "name": "stdout",
     "output_type": "stream",
     "text": [
      "BOOK:  Strategic International Management - Dirk Morschett et al. - 3rd ed. 2015\n",
      "Saving book...\n"
     ]
    },
    {
     "name": "stderr",
     "output_type": "stream",
     "text": [
      "\r",
      "140it [55:33,  8.77s/it]"
     ]
    },
    {
     "name": "stdout",
     "output_type": "stream",
     "text": [
      "BOOK:  Basic Concepts in Computational Physics - Benjamin A. Stickler et al. - 2nd ed. 2016\n",
      "Saving book...\n"
     ]
    },
    {
     "name": "stderr",
     "output_type": "stream",
     "text": [
      "\r",
      "141it [55:43,  9.08s/it]"
     ]
    },
    {
     "name": "stdout",
     "output_type": "stream",
     "text": [
      "BOOK:  Eye Tracking Methodology - Andrew T. Duchowski - 3rd ed. 2017\n",
      "Saving book...\n"
     ]
    },
    {
     "name": "stderr",
     "output_type": "stream",
     "text": [
      "\r",
      "142it [56:00, 11.37s/it]"
     ]
    },
    {
     "name": "stdout",
     "output_type": "stream",
     "text": [
      "BOOK:  Writing for Publication - Mary Renck Jalongo et al. - 1st ed. 2016\n",
      "Saving book...\n"
     ]
    },
    {
     "name": "stderr",
     "output_type": "stream",
     "text": [
      "\r",
      "143it [56:06,  9.79s/it]"
     ]
    },
    {
     "name": "stdout",
     "output_type": "stream",
     "text": [
      "BOOK:  Mathematical Physics - Sadri Hassani - 2nd ed. 2013\n",
      "Saving book...\n"
     ]
    },
    {
     "name": "stderr",
     "output_type": "stream",
     "text": [
      "\r",
      "144it [56:18, 10.51s/it]"
     ]
    },
    {
     "name": "stdout",
     "output_type": "stream",
     "text": [
      "BOOK:  Correctional Counseling and Treatment - Peter C. Kratcoski - 6th ed. 2017\n",
      "Saving book...\n"
     ]
    },
    {
     "name": "stderr",
     "output_type": "stream",
     "text": [
      "\r",
      "145it [56:22,  8.55s/it]"
     ]
    },
    {
     "name": "stdout",
     "output_type": "stream",
     "text": [
      "BOOK:  Thermodynamics and Energy Conversion - Henning Struchtrup - 2014\n",
      "Saving book...\n"
     ]
    },
    {
     "name": "stderr",
     "output_type": "stream",
     "text": [
      "\r",
      "146it [56:40, 11.22s/it]"
     ]
    },
    {
     "name": "stdout",
     "output_type": "stream",
     "text": [
      "BOOK:  The Action Research Planner - Stephen Kemmis et al. - 2014\n",
      "Saving book...\n"
     ]
    },
    {
     "name": "stderr",
     "output_type": "stream",
     "text": [
      "\r",
      "147it [56:45,  9.35s/it]"
     ]
    },
    {
     "name": "stdout",
     "output_type": "stream",
     "text": [
      "BOOK:  Stochastic Processes and Calculus - Uwe Hassler - 1st ed. 2016\n",
      "Saving book...\n"
     ]
    },
    {
     "name": "stderr",
     "output_type": "stream",
     "text": [
      "\r",
      "148it [56:51,  8.36s/it]"
     ]
    },
    {
     "name": "stdout",
     "output_type": "stream",
     "text": [
      "BOOK:  Statistical Analysis of Clinical Data on a Pocket Calculator - Ton J. Cleophas et al. - 2011\n",
      "Saving book...\n"
     ]
    },
    {
     "name": "stderr",
     "output_type": "stream",
     "text": [
      "\r",
      "149it [56:59,  8.22s/it]"
     ]
    },
    {
     "name": "stdout",
     "output_type": "stream",
     "text": [
      "BOOK:  Clinical Data Analysis on a Pocket Calculator - Ton J. Cleophas et al. - 2nd ed. 2016\n",
      "Saving book...\n"
     ]
    },
    {
     "name": "stderr",
     "output_type": "stream",
     "text": [
      "\r",
      "150it [57:12,  9.94s/it]"
     ]
    },
    {
     "name": "stdout",
     "output_type": "stream",
     "text": [
      "BOOK:  The Data Science Design Manual - Steven S. Skiena - 1st ed. 2017\n",
      "Saving book...\n"
     ]
    },
    {
     "name": "stderr",
     "output_type": "stream",
     "text": [
      "\r",
      "151it [57:30, 12.26s/it]"
     ]
    },
    {
     "name": "stdout",
     "output_type": "stream",
     "text": [
      "BOOK:  An Introduction to Machine Learning - Miroslav Kubat - 2nd ed. 2017\n",
      "Saving book...\n"
     ]
    },
    {
     "name": "stderr",
     "output_type": "stream",
     "text": [
      "\r",
      "152it [57:39, 11.10s/it]"
     ]
    },
    {
     "name": "stdout",
     "output_type": "stream",
     "text": [
      "BOOK:  Guide to Discrete Mathematics - Gerard O'Regan - 1st ed. 2016\n",
      "Saving book...\n"
     ]
    },
    {
     "name": "stderr",
     "output_type": "stream",
     "text": [
      "\r",
      "153it [57:47, 10.23s/it]"
     ]
    },
    {
     "name": "stdout",
     "output_type": "stream",
     "text": [
      "BOOK:  Petroleum Geoscience - Knut Bjrlykke - 2nd ed. 2015\n",
      "Saving book...\n"
     ]
    },
    {
     "name": "stderr",
     "output_type": "stream",
     "text": [
      "\r",
      "154it [58:43, 24.12s/it]"
     ]
    },
    {
     "name": "stdout",
     "output_type": "stream",
     "text": [
      "BOOK:  Structure Determination by X-ray Crystallography - Mark Ladd et al. - 5th ed. 2013\n",
      "Saving book...\n"
     ]
    },
    {
     "name": "stderr",
     "output_type": "stream",
     "text": [
      "\r",
      "155it [59:02, 22.50s/it]"
     ]
    },
    {
     "name": "stdout",
     "output_type": "stream",
     "text": [
      "BOOK:  Introduction to Time Series and Forecasting - Peter J. Brockwell et al. - 3rd ed. 2016\n",
      "Saving book...\n"
     ]
    },
    {
     "name": "stderr",
     "output_type": "stream",
     "text": [
      "\r",
      "156it [59:14, 19.26s/it]"
     ]
    },
    {
     "name": "stdout",
     "output_type": "stream",
     "text": [
      "BOOK:  Principles of Mobile Communication - Gordon L. Stuber - 4th ed. 2017\n",
      "Saving book...\n"
     ]
    },
    {
     "name": "stderr",
     "output_type": "stream",
     "text": [
      "\r",
      "157it [59:49, 24.20s/it]"
     ]
    },
    {
     "name": "stdout",
     "output_type": "stream",
     "text": [
      "BOOK:  Cardiovascular Biomechanics - Peter R. Hoskins et al. - 1st ed. 2017\n",
      "Saving book...\n"
     ]
    },
    {
     "name": "stderr",
     "output_type": "stream",
     "text": [
      "\r",
      "158it [1:00:10, 23.00s/it]"
     ]
    },
    {
     "name": "stdout",
     "output_type": "stream",
     "text": [
      "BOOK:  Introduction to Smooth Manifolds - John Lee - 2nd ed. 2013\n",
      "Saving book...\n"
     ]
    },
    {
     "name": "stderr",
     "output_type": "stream",
     "text": [
      "\r",
      "159it [1:00:18, 18.48s/it]"
     ]
    },
    {
     "name": "stdout",
     "output_type": "stream",
     "text": [
      "BOOK:  Taxation in European Union - Pietro Boria - 2nd ed. 2017\n",
      "Saving book...\n"
     ]
    },
    {
     "name": "stderr",
     "output_type": "stream",
     "text": [
      "\r",
      "160it [1:00:21, 14.02s/it]"
     ]
    },
    {
     "name": "stdout",
     "output_type": "stream",
     "text": [
      "BOOK:  Essentials of Cerebellum and Cerebellar Disorders - Donna L. Gruol et al. - 1st ed. 2016\n",
      "Saving book...\n"
     ]
    },
    {
     "name": "stderr",
     "output_type": "stream",
     "text": [
      "\r",
      "161it [1:00:44, 16.73s/it]"
     ]
    },
    {
     "name": "stdout",
     "output_type": "stream",
     "text": [
      "BOOK:  Language Across the Curriculum & CLIL in English as an Additional Language (EAL) Contexts - Angel M.Y. Lin - 1st ed. 2016\n",
      "Saving book...\n"
     ]
    },
    {
     "name": "stderr",
     "output_type": "stream",
     "text": [
      "\r",
      "162it [1:00:54, 14.56s/it]"
     ]
    },
    {
     "name": "stdout",
     "output_type": "stream",
     "text": [
      "BOOK:  Multivariate Calculus and Geometry - Sean Dineen - 3rd ed. 2014\n",
      "Saving book...\n"
     ]
    },
    {
     "name": "stderr",
     "output_type": "stream",
     "text": [
      "\r",
      "163it [1:01:01, 12.42s/it]"
     ]
    },
    {
     "name": "stdout",
     "output_type": "stream",
     "text": [
      "BOOK:  Statistics and Analysis of Scientific Data - Massimiliano Bonamente - 2nd ed. 2017\n",
      "Saving book...\n"
     ]
    },
    {
     "name": "stderr",
     "output_type": "stream",
     "text": [
      "\r",
      "164it [1:01:08, 10.84s/it]"
     ]
    },
    {
     "name": "stdout",
     "output_type": "stream",
     "text": [
      "BOOK:  Modelling Computing Systems - Faron Moller et al. - 2013\n",
      "Saving book...\n"
     ]
    },
    {
     "name": "stderr",
     "output_type": "stream",
     "text": [
      "\r",
      "165it [1:01:26, 12.87s/it]"
     ]
    },
    {
     "name": "stdout",
     "output_type": "stream",
     "text": [
      "BOOK:  Search Methodologies - Edmund K. Burke et al. - 2nd ed. 2014\n",
      "Saving book...\n"
     ]
    },
    {
     "name": "stderr",
     "output_type": "stream",
     "text": [
      "\r",
      "166it [1:01:35, 11.76s/it]"
     ]
    },
    {
     "name": "stdout",
     "output_type": "stream",
     "text": [
      "BOOK:  Representation Theory - William Fulton et al. - 2004\n",
      "Saving book...\n"
     ]
    },
    {
     "name": "stderr",
     "output_type": "stream",
     "text": [
      "\r",
      "167it [1:02:15, 20.13s/it]"
     ]
    },
    {
     "name": "stdout",
     "output_type": "stream",
     "text": [
      "BOOK:  Linear Algebra Done Right - Sheldon Axler - 3rd ed. 2015\n",
      "Saving book...\n"
     ]
    },
    {
     "name": "stderr",
     "output_type": "stream",
     "text": [
      "\r",
      "168it [1:02:19, 15.40s/it]"
     ]
    },
    {
     "name": "stdout",
     "output_type": "stream",
     "text": [
      "BOOK:  Stellar Structure and Evolution - Rudolf Kippenhahn et al. - 2nd ed. 2012\n",
      "Saving book...\n"
     ]
    },
    {
     "name": "stderr",
     "output_type": "stream",
     "text": [
      "\r",
      "169it [1:02:29, 13.88s/it]"
     ]
    },
    {
     "name": "stdout",
     "output_type": "stream",
     "text": [
      "BOOK:  Evolutionary Thinking in Medicine - Alexandra Alvergne et al. - 1st ed. 2016\n",
      "Saving book...\n"
     ]
    },
    {
     "name": "stderr",
     "output_type": "stream",
     "text": [
      "\r",
      "170it [1:02:36, 11.82s/it]"
     ]
    },
    {
     "name": "stdout",
     "output_type": "stream",
     "text": [
      "BOOK:  Understanding Cryptography - Christof Paar et al. - 2010\n",
      "Saving book...\n"
     ]
    },
    {
     "name": "stderr",
     "output_type": "stream",
     "text": [
      "\r",
      "171it [1:02:41,  9.64s/it]"
     ]
    },
    {
     "name": "stdout",
     "output_type": "stream",
     "text": [
      "BOOK:  Linear Algebra - Jorg Liesen et al. - 1st ed. 2015\n",
      "Saving book...\n"
     ]
    },
    {
     "name": "stderr",
     "output_type": "stream",
     "text": [
      "\r",
      "172it [1:02:46,  8.21s/it]"
     ]
    },
    {
     "name": "stdout",
     "output_type": "stream",
     "text": [
      "BOOK:  Algebra - Serge Lang - 3rd ed. 2002\n",
      "Saving book...\n"
     ]
    },
    {
     "name": "stderr",
     "output_type": "stream",
     "text": [
      "\r",
      "173it [1:03:41, 22.35s/it]"
     ]
    },
    {
     "name": "stdout",
     "output_type": "stream",
     "text": [
      "BOOK:  Understanding Analysis - Stephen Abbott - 2nd ed. 2015\n",
      "Saving book...\n"
     ]
    },
    {
     "name": "stderr",
     "output_type": "stream",
     "text": [
      "\r",
      "174it [1:03:47, 17.24s/it]"
     ]
    },
    {
     "name": "stdout",
     "output_type": "stream",
     "text": [
      "BOOK:  Plate Tectonics - Wolfgang Frisch et al. - 2011\n",
      "Saving book...\n"
     ]
    },
    {
     "name": "stderr",
     "output_type": "stream",
     "text": [
      "\r",
      "175it [1:06:00, 52.11s/it]"
     ]
    },
    {
     "name": "stdout",
     "output_type": "stream",
     "text": [
      "BOOK:  Linear Programming - Robert J Vanderbei - 4th ed. 2014\n",
      "Saving book...\n"
     ]
    },
    {
     "name": "stderr",
     "output_type": "stream",
     "text": [
      "\r",
      "176it [1:06:10, 39.61s/it]"
     ]
    },
    {
     "name": "stdout",
     "output_type": "stream",
     "text": [
      "BOOK:  The Nature of Scientific Knowledge - Kevin McCain - 1st ed. 2016\n",
      "Saving book...\n"
     ]
    },
    {
     "name": "stderr",
     "output_type": "stream",
     "text": [
      "\r",
      "177it [1:06:15, 29.07s/it]"
     ]
    },
    {
     "name": "stdout",
     "output_type": "stream",
     "text": [
      "BOOK:  Leadership Today - Joan Marques et al. - 1st ed. 2017\n",
      "Saving book...\n"
     ]
    },
    {
     "name": "stderr",
     "output_type": "stream",
     "text": [
      "\r",
      "178it [1:06:27, 23.98s/it]"
     ]
    },
    {
     "name": "stdout",
     "output_type": "stream",
     "text": [
      "BOOK:  Physics of Semiconductor Devices - Massimo Rudan - 2015\n",
      "Saving book...\n"
     ]
    },
    {
     "name": "stderr",
     "output_type": "stream",
     "text": [
      "\r",
      "179it [1:06:44, 21.75s/it]"
     ]
    },
    {
     "name": "stdout",
     "output_type": "stream",
     "text": [
      "BOOK:  Corporate Social Responsibility - John O. Okpara et al. - 2013\n",
      "Saving book...\n"
     ]
    },
    {
     "name": "stderr",
     "output_type": "stream",
     "text": [
      "\r",
      "180it [1:06:48, 16.61s/it]"
     ]
    },
    {
     "name": "stdout",
     "output_type": "stream",
     "text": [
      "BOOK:  Ordinary Differential Equations - William A. Adkins et al. - 2012\n",
      "Saving book...\n"
     ]
    },
    {
     "name": "stderr",
     "output_type": "stream",
     "text": [
      "\r",
      "181it [1:06:57, 14.33s/it]"
     ]
    },
    {
     "name": "stdout",
     "output_type": "stream",
     "text": [
      "BOOK:  Electronic Commerce - Efraim Turban et al. - 8th ed. 2015\n",
      "Saving book...\n"
     ]
    },
    {
     "name": "stderr",
     "output_type": "stream",
     "text": [
      "\r",
      "182it [1:07:17, 15.89s/it]"
     ]
    },
    {
     "name": "stdout",
     "output_type": "stream",
     "text": [
      "BOOK:  Ceramic Materials - C. Barry Carter et al. - 2nd ed. 2013\n",
      "Saving book...\n"
     ]
    },
    {
     "name": "stderr",
     "output_type": "stream",
     "text": [
      "\r",
      "183it [1:07:59, 23.70s/it]"
     ]
    },
    {
     "name": "stdout",
     "output_type": "stream",
     "text": [
      "BOOK:  Foundations of Analytical Chemistry - Miguel Valcarcel Cases et al. - 1st ed. 2018\n",
      "Saving book...\n"
     ]
    },
    {
     "name": "stderr",
     "output_type": "stream",
     "text": [
      "\r",
      "184it [1:08:20, 23.11s/it]"
     ]
    },
    {
     "name": "stdout",
     "output_type": "stream",
     "text": [
      "BOOK:  Life Cycle Assessment - Michael Z. Hauschild et al. - 1st ed. 2018\n",
      "Saving book...\n"
     ]
    },
    {
     "name": "stderr",
     "output_type": "stream",
     "text": [
      "\r",
      "185it [1:08:44, 23.34s/it]"
     ]
    },
    {
     "name": "stdout",
     "output_type": "stream",
     "text": [
      "BOOK:  A Clinical Guide to the Treatment of the Human Stress Response - George S. Everly et al. - 3rd ed. 2013\n",
      "Saving book...\n"
     ]
    },
    {
     "name": "stderr",
     "output_type": "stream",
     "text": [
      "\r",
      "186it [1:08:51, 18.21s/it]"
     ]
    },
    {
     "name": "stdout",
     "output_type": "stream",
     "text": [
      "BOOK:  Computational Physics - Philipp Scherer - 2nd ed. 2013\n",
      "Saving book...\n"
     ]
    },
    {
     "name": "stderr",
     "output_type": "stream",
     "text": [
      "\r",
      "187it [1:08:57, 14.67s/it]"
     ]
    },
    {
     "name": "stdout",
     "output_type": "stream",
     "text": [
      "BOOK:  Handbook of LGBT Elders - Debra A. Harley et al. - 1st ed. 2016\n",
      "Saving book...\n"
     ]
    },
    {
     "name": "stderr",
     "output_type": "stream",
     "text": [
      "\r",
      "188it [1:09:07, 13.20s/it]"
     ]
    },
    {
     "name": "stdout",
     "output_type": "stream",
     "text": [
      "BOOK:  Handbook of Cardiac Anatomy, Physiology, and Devices - Paul A. Iaizzo - 3rd ed. 2015\n",
      "Saving book...\n"
     ]
    },
    {
     "name": "stderr",
     "output_type": "stream",
     "text": [
      "\r",
      "189it [1:09:57, 24.38s/it]"
     ]
    },
    {
     "name": "stdout",
     "output_type": "stream",
     "text": [
      "BOOK:  Quantum Mechanics - Daniel Bes - 3rd ed. 2012\n",
      "Saving book...\n"
     ]
    },
    {
     "name": "stderr",
     "output_type": "stream",
     "text": [
      "\r",
      "190it [1:10:03, 18.70s/it]"
     ]
    },
    {
     "name": "stdout",
     "output_type": "stream",
     "text": [
      "BOOK:  Understanding Statistics Using R - Randall Schumacker et al. - 2013\n",
      "Saving book...\n"
     ]
    },
    {
     "name": "stderr",
     "output_type": "stream",
     "text": [
      "\r",
      "191it [1:10:07, 14.55s/it]"
     ]
    },
    {
     "name": "stdout",
     "output_type": "stream",
     "text": [
      "BOOK:  Mass Spectrometry - Jurgen H Gross - 3rd ed. 2017\n",
      "Saving book...\n"
     ]
    },
    {
     "name": "stderr",
     "output_type": "stream",
     "text": [
      "\r",
      "192it [1:10:54, 24.15s/it]"
     ]
    },
    {
     "name": "stdout",
     "output_type": "stream",
     "text": [
      "BOOK:  Statistical Mechanics for Engineers - Isamu Kusaka - 1st ed. 2015\n",
      "Saving book...\n"
     ]
    },
    {
     "name": "stderr",
     "output_type": "stream",
     "text": [
      "\r",
      "193it [1:11:03, 19.68s/it]"
     ]
    },
    {
     "name": "stdout",
     "output_type": "stream",
     "text": [
      "BOOK:  The Gastrointestinal System - Po Sing Leung - 2014\n",
      "Saving book...\n"
     ]
    },
    {
     "name": "stderr",
     "output_type": "stream",
     "text": [
      "\r",
      "194it [1:11:13, 16.83s/it]"
     ]
    },
    {
     "name": "stdout",
     "output_type": "stream",
     "text": [
      "BOOK:  Additive Manufacturing Technologies - Ian Gibson et al. - 2nd ed. 2015\n",
      "Saving book...\n"
     ]
    },
    {
     "name": "stderr",
     "output_type": "stream",
     "text": [
      "\r",
      "195it [1:11:26, 15.61s/it]"
     ]
    },
    {
     "name": "stdout",
     "output_type": "stream",
     "text": [
      "BOOK:  Magnetic Interactions in Molecules and Solids - Coen de Graaf et al. - 1st ed. 2016\n",
      "Saving book...\n"
     ]
    },
    {
     "name": "stderr",
     "output_type": "stream",
     "text": [
      "\r",
      "196it [1:11:33, 12.90s/it]"
     ]
    },
    {
     "name": "stdout",
     "output_type": "stream",
     "text": [
      "BOOK:  Electricity and Magnetism - Teruo Matsushita - 2014\n",
      "Saving book...\n"
     ]
    },
    {
     "name": "stderr",
     "output_type": "stream",
     "text": [
      "\r",
      "197it [1:13:50, 50.09s/it]"
     ]
    },
    {
     "name": "stdout",
     "output_type": "stream",
     "text": [
      "BOOK:  Survival Analysis - David G. Kleinbaum et al. - 3rd ed. 2012\n",
      "Saving book...\n"
     ]
    },
    {
     "name": "stderr",
     "output_type": "stream",
     "text": [
      "\r",
      "198it [1:14:04, 39.30s/it]"
     ]
    },
    {
     "name": "stdout",
     "output_type": "stream",
     "text": [
      "BOOK:  Foundations of Quantum Mechanics - Travis Norsen - 1st ed. 2017\n",
      "Saving book...\n"
     ]
    },
    {
     "name": "stderr",
     "output_type": "stream",
     "text": [
      "\r",
      "199it [1:14:10, 29.43s/it]"
     ]
    },
    {
     "name": "stdout",
     "output_type": "stream",
     "text": [
      "BOOK:  An Introduction to Statistical Learning - Gareth James et al. - 2013\n",
      "Saving book...\n"
     ]
    },
    {
     "name": "stderr",
     "output_type": "stream",
     "text": [
      "\r",
      "200it [1:14:22, 24.07s/it]"
     ]
    },
    {
     "name": "stdout",
     "output_type": "stream",
     "text": [
      "BOOK:  Introduction to Mathematica for Physicists - Andrey Grozin - 2014\n",
      "Saving book...\n"
     ]
    },
    {
     "name": "stderr",
     "output_type": "stream",
     "text": [
      "\r",
      "201it [1:14:27, 18.54s/it]"
     ]
    },
    {
     "name": "stdout",
     "output_type": "stream",
     "text": [
      "BOOK:  Statistical Learning from a Regression Perspective - Richard A. Berk - 2nd ed. 2016\n",
      "Saving book...\n"
     ]
    },
    {
     "name": "stderr",
     "output_type": "stream",
     "text": [
      "\r",
      "202it [1:14:36, 15.49s/it]"
     ]
    },
    {
     "name": "stdout",
     "output_type": "stream",
     "text": [
      "BOOK:  Applied Partial Differential Equations - J. David Logan - 3rd ed. 2015\n",
      "Saving book...\n"
     ]
    },
    {
     "name": "stderr",
     "output_type": "stream",
     "text": [
      "\r",
      "203it [1:14:42, 12.72s/it]"
     ]
    },
    {
     "name": "stdout",
     "output_type": "stream",
     "text": [
      "BOOK:  Principles of Astrophysics - Charles Keeton - 2014\n",
      "Saving book...\n"
     ]
    },
    {
     "name": "stderr",
     "output_type": "stream",
     "text": [
      "\r",
      "204it [1:14:56, 13.10s/it]"
     ]
    },
    {
     "name": "stdout",
     "output_type": "stream",
     "text": [
      "BOOK:  Air Pollution and Greenhouse Gases - Zhongchao Tan - 2014\n",
      "Saving book...\n"
     ]
    },
    {
     "name": "stderr",
     "output_type": "stream",
     "text": [
      "\r",
      "205it [1:15:07, 12.60s/it]"
     ]
    },
    {
     "name": "stdout",
     "output_type": "stream",
     "text": [
      "BOOK:  Polymer Synthesis Theory and Practice - Dietrich Braun et al. - 5th ed. 2013\n",
      "Saving book...\n"
     ]
    },
    {
     "name": "stderr",
     "output_type": "stream",
     "text": [
      "\r",
      "206it [1:15:16, 11.47s/it]"
     ]
    },
    {
     "name": "stdout",
     "output_type": "stream",
     "text": [
      "BOOK:  Sustainable Supply Chains - Yann Bouchery et al. - 1st ed. 2017\n",
      "Saving book...\n"
     ]
    },
    {
     "name": "stderr",
     "output_type": "stream",
     "text": [
      "\r",
      "207it [1:15:34, 13.44s/it]"
     ]
    },
    {
     "name": "stdout",
     "output_type": "stream",
     "text": [
      "BOOK:  Robotics - Bruno Siciliano et al. - 2009\n",
      "Saving book...\n"
     ]
    },
    {
     "name": "stderr",
     "output_type": "stream",
     "text": [
      "\r",
      "208it [1:15:45, 12.68s/it]"
     ]
    },
    {
     "name": "stdout",
     "output_type": "stream",
     "text": [
      "BOOK:  Econometrics - Badi H. Baltagi - 5th ed. 2011\n",
      "Saving book...\n"
     ]
    },
    {
     "name": "stderr",
     "output_type": "stream",
     "text": [
      "\r",
      "209it [1:15:52, 10.93s/it]"
     ]
    },
    {
     "name": "stdout",
     "output_type": "stream",
     "text": [
      "BOOK:  The Sea Floor - Eugen Seibold et al. - 4th ed. 2017\n",
      "Saving book...\n"
     ]
    },
    {
     "name": "stderr",
     "output_type": "stream",
     "text": [
      "\r",
      "210it [1:16:26, 17.89s/it]"
     ]
    },
    {
     "name": "stdout",
     "output_type": "stream",
     "text": [
      "BOOK:  SPSS for Starters and 2nd Levelers - Ton J. Cleophas et al. - 2nd ed. 2016\n",
      "Saving book...\n"
     ]
    },
    {
     "name": "stderr",
     "output_type": "stream",
     "text": [
      "\r",
      "211it [1:16:37, 15.83s/it]"
     ]
    },
    {
     "name": "stdout",
     "output_type": "stream",
     "text": [
      "BOOK:  Regression Modeling Strategies - Frank E. Harrell  et al. - 2nd ed. 2015\n",
      "Saving book...\n"
     ]
    },
    {
     "name": "stderr",
     "output_type": "stream",
     "text": [
      "\r",
      "212it [1:16:46, 13.70s/it]"
     ]
    },
    {
     "name": "stdout",
     "output_type": "stream",
     "text": [
      "BOOK:  Legal Dynamics of EU External Relations - Henri de Waele - 2nd ed. 2017\n",
      "Saving book...\n"
     ]
    },
    {
     "name": "stderr",
     "output_type": "stream",
     "text": [
      "\r",
      "213it [1:16:50, 10.71s/it]"
     ]
    },
    {
     "name": "stdout",
     "output_type": "stream",
     "text": [
      "BOOK:  Food Analysis Laboratory Manual - S. Suzanne Nielsen - 3rd ed. 2017\n",
      "Saving book...\n"
     ]
    },
    {
     "name": "stderr",
     "output_type": "stream",
     "text": [
      "\r",
      "214it [1:17:01, 11.02s/it]"
     ]
    },
    {
     "name": "stdout",
     "output_type": "stream",
     "text": [
      "BOOK:  Principles of Musical Acoustics - William M. Hartmann - 2013\n",
      "Saving book...\n"
     ]
    },
    {
     "name": "stderr",
     "output_type": "stream",
     "text": [
      "\r",
      "215it [1:17:17, 12.34s/it]"
     ]
    },
    {
     "name": "stdout",
     "output_type": "stream",
     "text": [
      "BOOK:  Fundamentals of Structural Engineering - Jerome J. Connor et al. - 2nd ed. 2016\n",
      "Saving book...\n"
     ]
    },
    {
     "name": "stderr",
     "output_type": "stream",
     "text": [
      "\r",
      "216it [1:17:55, 20.13s/it]"
     ]
    },
    {
     "name": "stdout",
     "output_type": "stream",
     "text": [
      "BOOK:  Basics of Laser Physics - Karl F. Renk - 2nd ed. 2017\n",
      "Saving book...\n"
     ]
    },
    {
     "name": "stderr",
     "output_type": "stream",
     "text": [
      "\r",
      "217it [1:18:12, 19.27s/it]"
     ]
    },
    {
     "name": "stdout",
     "output_type": "stream",
     "text": [
      "BOOK:  Applied Quantitative Finance - Wolfgang Karl Hardle et al. - 3rd ed. 2017\n",
      "Saving book...\n"
     ]
    },
    {
     "name": "stderr",
     "output_type": "stream",
     "text": [
      "\r",
      "218it [1:18:24, 16.96s/it]"
     ]
    },
    {
     "name": "stdout",
     "output_type": "stream",
     "text": [
      "BOOK:  Handbook of Marriage and the Family - Gary W. Peterson et al. - 3rd ed. 2013\n",
      "Saving book...\n"
     ]
    },
    {
     "name": "stderr",
     "output_type": "stream",
     "text": [
      "\r",
      "219it [1:18:34, 14.84s/it]"
     ]
    },
    {
     "name": "stdout",
     "output_type": "stream",
     "text": [
      "BOOK:  Solid-State Physics - Harald Ibach et al. - 4th ed. 2009\n",
      "Saving book...\n"
     ]
    },
    {
     "name": "stderr",
     "output_type": "stream",
     "text": [
      "\r",
      "220it [1:18:49, 15.05s/it]"
     ]
    },
    {
     "name": "stdout",
     "output_type": "stream",
     "text": [
      "BOOK:  Electrochemical Impedance Spectroscopy and its Applications - Andrzej Lasia - 2014\n",
      "Saving book...\n"
     ]
    },
    {
     "name": "stderr",
     "output_type": "stream",
     "text": [
      "\r",
      "221it [1:19:05, 15.23s/it]"
     ]
    },
    {
     "name": "stdout",
     "output_type": "stream",
     "text": [
      "BOOK:  Economics as Applied Ethics - Wilfred Beckerman - 2nd ed. 2017\n",
      "Saving book...\n"
     ]
    },
    {
     "name": "stderr",
     "output_type": "stream",
     "text": [
      "\r",
      "222it [1:19:22, 15.62s/it]"
     ]
    },
    {
     "name": "stdout",
     "output_type": "stream",
     "text": [
      "BOOK:  Electronics for Embedded Systems - Ahmet Bindal - 1st ed. 2017\n",
      "Saving book...\n"
     ]
    },
    {
     "name": "stderr",
     "output_type": "stream",
     "text": [
      "\r",
      "223it [1:19:41, 16.62s/it]"
     ]
    },
    {
     "name": "stdout",
     "output_type": "stream",
     "text": [
      "BOOK:  Concise Guide to Software Engineering - Gerard O'Regan - 1st ed. 2017\n",
      "Saving book...\n"
     ]
    },
    {
     "name": "stderr",
     "output_type": "stream",
     "text": [
      "\r",
      "224it [1:19:48, 13.79s/it]"
     ]
    },
    {
     "name": "stdout",
     "output_type": "stream",
     "text": [
      "BOOK:  Fundamentals of Multimedia - Ze-Nian Li et al. - 2nd ed. 2014\n",
      "Saving book...\n"
     ]
    },
    {
     "name": "stderr",
     "output_type": "stream",
     "text": [
      "\r",
      "225it [1:20:07, 15.54s/it]"
     ]
    },
    {
     "name": "stdout",
     "output_type": "stream",
     "text": [
      "BOOK:  Logistics - Harald Gleissner et al. - 2013\n",
      "Saving book...\n"
     ]
    },
    {
     "name": "stderr",
     "output_type": "stream",
     "text": [
      "\r",
      "226it [1:20:18, 14.20s/it]"
     ]
    },
    {
     "name": "stdout",
     "output_type": "stream",
     "text": [
      "BOOK:  Group Theory Applied to Chemistry - Arnout Jozef Ceulemans - 2013\n",
      "Saving book...\n"
     ]
    },
    {
     "name": "stderr",
     "output_type": "stream",
     "text": [
      "\r",
      "227it [1:20:23, 11.37s/it]"
     ]
    },
    {
     "name": "stdout",
     "output_type": "stream",
     "text": [
      "BOOK:  The Psychology of Social Status - Joey T. Cheng et al. - 2014\n",
      "Saving book...\n"
     ]
    },
    {
     "name": "stderr",
     "output_type": "stream",
     "text": [
      "\r",
      "228it [1:20:29,  9.74s/it]"
     ]
    },
    {
     "name": "stdout",
     "output_type": "stream",
     "text": [
      "BOOK:  A Modern Introduction to Probability and Statistics - F.M. Dekking et al. - 2005\n",
      "Saving book...\n"
     ]
    },
    {
     "name": "stderr",
     "output_type": "stream",
     "text": [
      "\r",
      "229it [1:20:34,  8.18s/it]"
     ]
    },
    {
     "name": "stdout",
     "output_type": "stream",
     "text": [
      "BOOK:  Complex Analysis - Joseph Bak et al. - 3rd ed. 2010\n",
      "Saving book...\n"
     ]
    },
    {
     "name": "stderr",
     "output_type": "stream",
     "text": [
      "\r",
      "230it [1:20:41,  7.84s/it]"
     ]
    },
    {
     "name": "stdout",
     "output_type": "stream",
     "text": [
      "BOOK:  Food Chemistry - H.-D. Belitz et al. - 4th ed. 2009\n",
      "Saving book...\n"
     ]
    },
    {
     "name": "stderr",
     "output_type": "stream",
     "text": [
      "\r",
      "231it [1:21:14, 15.50s/it]"
     ]
    },
    {
     "name": "stdout",
     "output_type": "stream",
     "text": [
      "BOOK:  Exam Survival Guide Physical Chemistry - Jochen Vogt - 1st ed. 2017\n",
      "Saving book...\n"
     ]
    },
    {
     "name": "stderr",
     "output_type": "stream",
     "text": [
      "\r",
      "232it [1:21:24, 13.75s/it]"
     ]
    },
    {
     "name": "stdout",
     "output_type": "stream",
     "text": [
      "BOOK:  The Python Workbook - Ben Stephenson - 2014\n",
      "Saving book...\n"
     ]
    },
    {
     "name": "stderr",
     "output_type": "stream",
     "text": [
      "\r",
      "233it [1:21:45, 15.98s/it]"
     ]
    },
    {
     "name": "stdout",
     "output_type": "stream",
     "text": [
      "BOOK:  Practical Electrical Engineering - Sergey N. Makarov et al. - 1st ed. 2016\n",
      "Saving book...\n"
     ]
    },
    {
     "name": "stderr",
     "output_type": "stream",
     "text": [
      "\r",
      "234it [1:22:33, 25.57s/it]"
     ]
    },
    {
     "name": "stdout",
     "output_type": "stream",
     "text": [
      "BOOK:  Strategic Retail Management - Joachim Zentes et al. - 3rd ed. 2017\n",
      "Saving book...\n"
     ]
    },
    {
     "name": "stderr",
     "output_type": "stream",
     "text": [
      "\r",
      "235it [1:22:40, 20.12s/it]"
     ]
    },
    {
     "name": "stdout",
     "output_type": "stream",
     "text": [
      "BOOK:  Food Analysis - S. Suzanne Nielsen - 5th ed. 2017\n",
      "Saving book...\n"
     ]
    },
    {
     "name": "stderr",
     "output_type": "stream",
     "text": [
      "\r",
      "236it [1:23:06, 21.79s/it]"
     ]
    },
    {
     "name": "stdout",
     "output_type": "stream",
     "text": [
      "BOOK:  Psychoeducational Assessment and Report Writing - Stefan C. Dombrowski - 2015\n",
      "Saving book...\n"
     ]
    },
    {
     "name": "stderr",
     "output_type": "stream",
     "text": [
      "\r",
      "237it [1:23:16, 18.32s/it]"
     ]
    },
    {
     "name": "stdout",
     "output_type": "stream",
     "text": [
      "BOOK:  Machine Learning in Medicine - a Complete Overview - Ton J. Cleophas et al. - 2015\n",
      "Saving book...\n"
     ]
    },
    {
     "name": "stderr",
     "output_type": "stream",
     "text": [
      "\r",
      "238it [1:23:33, 17.82s/it]"
     ]
    },
    {
     "name": "stdout",
     "output_type": "stream",
     "text": [
      "BOOK:  Evidence-Based Interventions for Children with Challenging Behavior - Kathleen Hague Armstrong et al. - 2014\n",
      "Saving book...\n"
     ]
    },
    {
     "name": "stderr",
     "output_type": "stream",
     "text": [
      "\r",
      "239it [1:23:38, 14.06s/it]"
     ]
    },
    {
     "name": "stdout",
     "output_type": "stream",
     "text": [
      "BOOK:  Principles of Quantum Mechanics - R. Shankar - 2nd ed. 1994\n",
      "Saving book...\n"
     ]
    },
    {
     "name": "stderr",
     "output_type": "stream",
     "text": [
      "\r",
      "240it [1:24:35, 26.82s/it]"
     ]
    },
    {
     "name": "stdout",
     "output_type": "stream",
     "text": [
      "BOOK:  Recommender Systems - Charu C. Aggarwal - 1st ed. 2016\n",
      "Saving book...\n"
     ]
    },
    {
     "name": "stderr",
     "output_type": "stream",
     "text": [
      "\r",
      "241it [1:24:44, 21.61s/it]"
     ]
    },
    {
     "name": "stdout",
     "output_type": "stream",
     "text": [
      "BOOK:  Pharmaceutical Biotechnology - Daan J. A. Crommelin et al. - 4th ed. 2013\n",
      "Saving book...\n"
     ]
    },
    {
     "name": "stderr",
     "output_type": "stream",
     "text": [
      "\r",
      "242it [1:26:04, 39.12s/it]"
     ]
    },
    {
     "name": "stdout",
     "output_type": "stream",
     "text": [
      "BOOK:  Python Programming Fundamentals - Kent D. Lee - 2nd ed. 2014\n",
      "Saving book...\n"
     ]
    },
    {
     "name": "stderr",
     "output_type": "stream",
     "text": [
      "\r",
      "243it [1:26:12, 29.64s/it]"
     ]
    },
    {
     "name": "stdout",
     "output_type": "stream",
     "text": [
      "BOOK:  The Finite Element Method and Applications in Engineering Using ANSYS - Erdogan Madenci et al. - 2nd ed. 2015\n",
      "Saving book...\n"
     ]
    },
    {
     "name": "stderr",
     "output_type": "stream",
     "text": [
      "\r",
      "244it [1:26:46, 30.93s/it]"
     ]
    },
    {
     "name": "stdout",
     "output_type": "stream",
     "text": [
      "BOOK:  Group Theory - Mildred S. Dresselhaus et al. - 2008\n",
      "Saving book...\n"
     ]
    },
    {
     "name": "stderr",
     "output_type": "stream",
     "text": [
      "\r",
      "245it [1:26:53, 23.77s/it]"
     ]
    },
    {
     "name": "stdout",
     "output_type": "stream",
     "text": [
      "BOOK:  Object-Oriented Analysis, Design and Implementation - Brahma Dathan et al. - 2nd ed. 2015\n",
      "Saving book...\n"
     ]
    },
    {
     "name": "stderr",
     "output_type": "stream",
     "text": [
      "\r",
      "246it [1:27:04, 20.10s/it]"
     ]
    },
    {
     "name": "stdout",
     "output_type": "stream",
     "text": [
      "BOOK:  Introduction to Embedded Systems - Manuel Jimenez et al. - 2014\n",
      "Saving book...\n"
     ]
    },
    {
     "name": "stderr",
     "output_type": "stream",
     "text": [
      "\r",
      "247it [1:27:23, 19.59s/it]"
     ]
    },
    {
     "name": "stdout",
     "output_type": "stream",
     "text": [
      "BOOK:  Elementary Mechanics Using Matlab - Anders Malthe-Srenssen - 2015\n",
      "Saving book...\n"
     ]
    },
    {
     "name": "stderr",
     "output_type": "stream",
     "text": [
      "\r",
      "248it [1:27:35, 17.51s/it]"
     ]
    },
    {
     "name": "stdout",
     "output_type": "stream",
     "text": [
      "BOOK:  An Introduction to Biomechanics - Jay D. Humphrey et al. - 2nd ed. 2015\n",
      "Saving book...\n"
     ]
    },
    {
     "name": "stderr",
     "output_type": "stream",
     "text": [
      "\r",
      "249it [1:27:45, 15.16s/it]"
     ]
    },
    {
     "name": "stdout",
     "output_type": "stream",
     "text": [
      "BOOK:  New Introduction to Multiple Time Series Analysis - Helmut Lutkepohl - 2005\n",
      "Saving book...\n"
     ]
    },
    {
     "name": "stderr",
     "output_type": "stream",
     "text": [
      "\r",
      "250it [1:27:58, 14.38s/it]"
     ]
    },
    {
     "name": "stdout",
     "output_type": "stream",
     "text": [
      "BOOK:  Introduction to Data Science - Laura Igual et al. - 1st ed. 2017\n",
      "Saving book...\n"
     ]
    },
    {
     "name": "stderr",
     "output_type": "stream",
     "text": [
      "\r",
      "251it [1:28:05, 12.24s/it]"
     ]
    },
    {
     "name": "stdout",
     "output_type": "stream",
     "text": [
      "BOOK:  Calculus With Applications - Peter D. Lax et al. - 2nd ed. 2014\n",
      "Saving book...\n"
     ]
    },
    {
     "name": "stderr",
     "output_type": "stream",
     "text": [
      "\r",
      "252it [1:28:12, 10.72s/it]"
     ]
    },
    {
     "name": "stdout",
     "output_type": "stream",
     "text": [
      "BOOK:  An Introduction to Soil Mechanics - Arnold Verruijt - 1st ed. 2018\n",
      "Saving book...\n"
     ]
    },
    {
     "name": "stderr",
     "output_type": "stream",
     "text": [
      "\r",
      "253it [1:29:20, 27.80s/it]"
     ]
    },
    {
     "name": "stdout",
     "output_type": "stream",
     "text": [
      "BOOK:  Game Theory - Hans Peters - 2nd ed. 2015\n",
      "Saving book...\n"
     ]
    },
    {
     "name": "stderr",
     "output_type": "stream",
     "text": [
      "\r",
      "254it [1:29:27, 21.62s/it]"
     ]
    },
    {
     "name": "stdout",
     "output_type": "stream",
     "text": [
      "BOOK:  Fundamentals of Clinical Trials - Lawrence M. Friedman et al. - 5th ed. 2015\n",
      "Saving book...\n"
     ]
    },
    {
     "name": "stderr",
     "output_type": "stream",
     "text": [
      "\r",
      "255it [1:29:34, 17.34s/it]"
     ]
    },
    {
     "name": "stdout",
     "output_type": "stream",
     "text": [
      "BOOK:  The Finite Volume Method in Computational Fluid Dynamics - F. Moukalled et al. - 1st ed. 2016\n",
      "Saving book...\n"
     ]
    },
    {
     "name": "stderr",
     "output_type": "stream",
     "text": [
      "\r",
      "256it [1:29:57, 19.08s/it]"
     ]
    },
    {
     "name": "stdout",
     "output_type": "stream",
     "text": [
      "BOOK:  The ASCRS Textbook of Colon and Rectal Surgery - Scott R. Steele et al. - 3rd ed. 2016\n",
      "Saving book...\n"
     ]
    },
    {
     "name": "stderr",
     "output_type": "stream",
     "text": [
      "\r",
      "257it [1:31:12, 35.71s/it]"
     ]
    },
    {
     "name": "stdout",
     "output_type": "stream",
     "text": [
      "BOOK:  Applied Predictive Modeling - Max Kuhn et al. - 2013\n",
      "Saving book...\n"
     ]
    },
    {
     "name": "stderr",
     "output_type": "stream",
     "text": [
      "\r",
      "258it [1:31:34, 31.70s/it]"
     ]
    },
    {
     "name": "stdout",
     "output_type": "stream",
     "text": [
      "BOOK:  Introduction to Logic Circuits & Logic Design with VHDL  - Brock J. LaMeres - 1st ed. 2017\n",
      "Saving book...\n"
     ]
    },
    {
     "name": "stderr",
     "output_type": "stream",
     "text": [
      "\r",
      "259it [1:32:21, 36.15s/it]"
     ]
    },
    {
     "name": "stdout",
     "output_type": "stream",
     "text": [
      "BOOK:  Sustainability Science - Harald Heinrichs et al. - 1st ed. 2016\n",
      "Saving book...\n"
     ]
    },
    {
     "name": "stderr",
     "output_type": "stream",
     "text": [
      "\r",
      "260it [1:32:30, 28.20s/it]"
     ]
    },
    {
     "name": "stdout",
     "output_type": "stream",
     "text": [
      "BOOK:  Physical Chemistry from a Different Angle - Georg Job et al. - 1st ed. 2016\n",
      "Saving book...\n"
     ]
    },
    {
     "name": "stderr",
     "output_type": "stream",
     "text": [
      "\r",
      "261it [1:32:46, 24.49s/it]"
     ]
    },
    {
     "name": "stdout",
     "output_type": "stream",
     "text": [
      "BOOK:  The Physics of Semiconductors - Marius Grundmann - 3rd ed. 2016\n",
      "Saving book...\n"
     ]
    },
    {
     "name": "stderr",
     "output_type": "stream",
     "text": [
      "\r",
      "262it [1:33:28, 29.63s/it]"
     ]
    },
    {
     "name": "stdout",
     "output_type": "stream",
     "text": [
      "BOOK:  Energy Harvesting and Energy Efficiency - Nicu Bizon et al. - 1st ed. 2017\n",
      "Saving book...\n"
     ]
    },
    {
     "name": "stderr",
     "output_type": "stream",
     "text": [
      "\r",
      "263it [1:33:51, 27.76s/it]"
     ]
    },
    {
     "name": "stdout",
     "output_type": "stream",
     "text": [
      "BOOK:  Python For ArcGIS - Laura Tateosian - 1st ed. 2015\n",
      "Saving book...\n"
     ]
    },
    {
     "name": "stderr",
     "output_type": "stream",
     "text": [
      "\r",
      "264it [1:34:10, 25.22s/it]"
     ]
    },
    {
     "name": "stdout",
     "output_type": "stream",
     "text": [
      "BOOK:  Statics and Mechanics of Structures - Steen Krenk et al. - 2013\n",
      "Saving book...\n"
     ]
    },
    {
     "name": "stderr",
     "output_type": "stream",
     "text": [
      "\r",
      "265it [1:34:20, 20.54s/it]"
     ]
    },
    {
     "name": "stdout",
     "output_type": "stream",
     "text": [
      "BOOK:  Real Analysis - Miklos Laczkovich et al. - 1st ed. 2015\n",
      "Saving book...\n"
     ]
    },
    {
     "name": "stderr",
     "output_type": "stream",
     "text": [
      "\r",
      "266it [1:34:26, 16.17s/it]"
     ]
    },
    {
     "name": "stdout",
     "output_type": "stream",
     "text": [
      "BOOK:  MATLAB for Psychologists - Mauro Borgo et al. - 2012\n",
      "Saving book...\n"
     ]
    },
    {
     "name": "stderr",
     "output_type": "stream",
     "text": [
      "\r",
      "267it [1:34:36, 14.43s/it]"
     ]
    },
    {
     "name": "stdout",
     "output_type": "stream",
     "text": [
      "BOOK:  Physical Asset Management - Nicholas Anthony John Hastings - 2nd ed. 2015\n",
      "Saving book...\n"
     ]
    },
    {
     "name": "stderr",
     "output_type": "stream",
     "text": [
      "\r",
      "268it [1:34:51, 14.42s/it]"
     ]
    },
    {
     "name": "stdout",
     "output_type": "stream",
     "text": [
      "BOOK:  Essentials of Food Science - Vickie A. Vaclavik et al. - 4th ed. 2014\n",
      "Saving book...\n"
     ]
    },
    {
     "name": "stderr",
     "output_type": "stream",
     "text": [
      "\r",
      "269it [1:35:06, 14.55s/it]"
     ]
    },
    {
     "name": "stdout",
     "output_type": "stream",
     "text": [
      "BOOK:  Quantum Mechanics - K.T. Hecht - 2000\n",
      "Saving book...\n"
     ]
    },
    {
     "name": "stderr",
     "output_type": "stream",
     "text": [
      "\r",
      "270it [1:36:33, 36.35s/it]"
     ]
    },
    {
     "name": "stdout",
     "output_type": "stream",
     "text": [
      "BOOK:  Probability Theory - Achim Klenke - 2nd ed. 2014\n",
      "Saving book...\n"
     ]
    },
    {
     "name": "stderr",
     "output_type": "stream",
     "text": [
      "\r",
      "271it [1:36:39, 27.33s/it]"
     ]
    },
    {
     "name": "stdout",
     "output_type": "stream",
     "text": [
      "BOOK:  Concise Guide to Databases - Peter Lake et al. - 2013\n",
      "Saving book...\n"
     ]
    },
    {
     "name": "stderr",
     "output_type": "stream",
     "text": [
      "\r",
      "272it [1:36:48, 21.77s/it]"
     ]
    },
    {
     "name": "stdout",
     "output_type": "stream",
     "text": [
      "BOOK:  Digital Image Processing - Wilhelm Burger et al. - 2nd ed. 2016\n",
      "Saving book...\n"
     ]
    },
    {
     "name": "stderr",
     "output_type": "stream",
     "text": [
      "\r",
      "273it [1:37:16, 23.73s/it]"
     ]
    },
    {
     "name": "stdout",
     "output_type": "stream",
     "text": [
      "BOOK:  Chemical and Bioprocess Engineering - Ricardo Simpson et al. - 2013\n",
      "Saving book...\n"
     ]
    },
    {
     "name": "stderr",
     "output_type": "stream",
     "text": [
      "\r",
      "274it [1:37:26, 19.58s/it]"
     ]
    },
    {
     "name": "stdout",
     "output_type": "stream",
     "text": [
      "BOOK:  Transmission Electron Microscopy - David B. Williams et al. - 1996\n",
      "Saving book...\n"
     ]
    },
    {
     "name": "stderr",
     "output_type": "stream",
     "text": [
      "\r",
      "275it [1:39:04, 43.07s/it]"
     ]
    },
    {
     "name": "stdout",
     "output_type": "stream",
     "text": [
      "BOOK:  Guide to Computer Network Security - Joseph Migga Kizza - 4th ed. 2017\n",
      "Saving book...\n"
     ]
    },
    {
     "name": "stderr",
     "output_type": "stream",
     "text": [
      "\r",
      "276it [1:39:13, 32.86s/it]"
     ]
    },
    {
     "name": "stdout",
     "output_type": "stream",
     "text": [
      "BOOK:  Introduction to Law - Jaap Hage et al. - 2nd ed. 2017\n",
      "Saving book...\n"
     ]
    },
    {
     "name": "stderr",
     "output_type": "stream",
     "text": [
      "\r",
      "277it [1:39:18, 24.57s/it]"
     ]
    },
    {
     "name": "stdout",
     "output_type": "stream",
     "text": [
      "BOOK:  Advanced Quantum Mechanics - RAINER DICK - 2nd ed. 2016\n",
      "Saving book...\n"
     ]
    },
    {
     "name": "stderr",
     "output_type": "stream",
     "text": [
      "\r",
      "278it [1:39:26, 19.42s/it]"
     ]
    },
    {
     "name": "stdout",
     "output_type": "stream",
     "text": [
      "BOOK:  Bayesian Essentials with R - Jean-Michel Marin et al. - 2nd ed. 2014\n",
      "Saving book...\n"
     ]
    },
    {
     "name": "stderr",
     "output_type": "stream",
     "text": [
      "\r",
      "279it [1:39:35, 16.27s/it]"
     ]
    },
    {
     "name": "stdout",
     "output_type": "stream",
     "text": [
      "BOOK:  Robotics, Vision and Control - Peter Corke - 2011\n",
      "Saving book...\n"
     ]
    },
    {
     "name": "stderr",
     "output_type": "stream",
     "text": [
      "\r",
      "280it [1:41:41, 49.22s/it]"
     ]
    },
    {
     "name": "stdout",
     "output_type": "stream",
     "text": [
      "BOOK:  Applied Chemistry - Oleg Roussak et al. - 2nd ed. 2013\n",
      "Saving book...\n"
     ]
    },
    {
     "name": "stderr",
     "output_type": "stream",
     "text": [
      "\r",
      "281it [1:41:50, 37.22s/it]"
     ]
    },
    {
     "name": "stdout",
     "output_type": "stream",
     "text": [
      "BOOK:  Advanced Organic Chemistry - Francis A. Carey et al. - 5th ed. 2007\n",
      "Saving book...\n"
     ]
    },
    {
     "name": "stderr",
     "output_type": "stream",
     "text": [
      "\r",
      "282it [1:42:39, 40.70s/it]"
     ]
    },
    {
     "name": "stdout",
     "output_type": "stream",
     "text": [
      "BOOK:  Advanced Organic Chemistry - Francis A. Carey et al. - 5th ed. 2007\n",
      "Saving book...\n"
     ]
    },
    {
     "name": "stderr",
     "output_type": "stream",
     "text": [
      "\r",
      "283it [1:43:37, 45.81s/it]"
     ]
    },
    {
     "name": "stdout",
     "output_type": "stream",
     "text": [
      "BOOK:  International Humanitarian Action - Hans-Joachim Heintze et al. - 1st ed. 2018\n",
      "Saving book...\n"
     ]
    },
    {
     "name": "stderr",
     "output_type": "stream",
     "text": [
      "\r",
      "284it [1:43:44, 34.40s/it]"
     ]
    },
    {
     "name": "stdout",
     "output_type": "stream",
     "text": [
      "BOOK:  Breast Cancer - Umberto Veronesi et al. - 1st ed. 2017\n",
      "Saving book...\n"
     ]
    },
    {
     "name": "stderr",
     "output_type": "stream",
     "text": [
      "\r",
      "285it [1:44:21, 35.23s/it]"
     ]
    },
    {
     "name": "stdout",
     "output_type": "stream",
     "text": [
      "BOOK:  Travel Marketing, Tourism Economics and the Airline Product - Mark Anthony Camilleri - 1st ed. 2018\n",
      "Saving book...\n"
     ]
    },
    {
     "name": "stderr",
     "output_type": "stream",
     "text": [
      "\r",
      "286it [1:44:26, 25.93s/it]"
     ]
    },
    {
     "name": "stdout",
     "output_type": "stream",
     "text": [
      "BOOK:  Electronic Commerce 2018 - Efraim Turban et al. - 9th ed. 2018\n",
      "Saving book...\n"
     ]
    },
    {
     "name": "stderr",
     "output_type": "stream",
     "text": [
      "\r",
      "287it [1:44:39, 22.20s/it]"
     ]
    },
    {
     "name": "stdout",
     "output_type": "stream",
     "text": [
      "BOOK:  Disability and Vocational Rehabilitation in Rural Settings - Debra A. Harley et al. - 1st ed. 2018\n",
      "Saving book...\n"
     ]
    },
    {
     "name": "stderr",
     "output_type": "stream",
     "text": [
      "\r",
      "288it [1:44:51, 18.96s/it]"
     ]
    },
    {
     "name": "stdout",
     "output_type": "stream",
     "text": [
      "BOOK:  Teaching Medicine and Medical Ethics Using Popular Culture - Evie Kendal et al. - 1st ed. 2017\n",
      "Saving book...\n"
     ]
    },
    {
     "name": "stderr",
     "output_type": "stream",
     "text": [
      "\r",
      "289it [1:44:54, 14.39s/it]"
     ]
    },
    {
     "name": "stdout",
     "output_type": "stream",
     "text": [
      "BOOK:  Market Research - Erik Mooi et al. - 1st ed. 2018\n",
      "Saving book...\n"
     ]
    },
    {
     "name": "stderr",
     "output_type": "stream",
     "text": [
      "\r",
      "290it [1:45:05, 13.38s/it]"
     ]
    },
    {
     "name": "stdout",
     "output_type": "stream",
     "text": [
      "BOOK:  Scanning Electron Microscopy and X-Ray Microanalysis - Joseph I. Goldstein et al. - 4th ed. 2018\n",
      "Saving book...\n"
     ]
    },
    {
     "name": "stderr",
     "output_type": "stream",
     "text": [
      "\r",
      "291it [1:46:07, 27.84s/it]"
     ]
    },
    {
     "name": "stdout",
     "output_type": "stream",
     "text": [
      "BOOK:  ArcGIS for Environmental and Water Issues - William Bajjali - 1st ed. 2018\n",
      "Saving book...\n"
     ]
    },
    {
     "name": "stderr",
     "output_type": "stream",
     "text": [
      "\r",
      "292it [1:46:45, 30.79s/it]"
     ]
    },
    {
     "name": "stdout",
     "output_type": "stream",
     "text": [
      "BOOK:  Physics from Symmetry - Jakob Schwichtenberg - 2nd ed. 2018\n",
      "Saving book...\n"
     ]
    },
    {
     "name": "stderr",
     "output_type": "stream",
     "text": [
      "\r",
      "293it [1:46:49, 23.02s/it]"
     ]
    },
    {
     "name": "stdout",
     "output_type": "stream",
     "text": [
      "BOOK:  Communication and Bioethics at the End of Life - Lori A. Roscoe et al. - 1st ed. 2017\n",
      "Saving book...\n"
     ]
    },
    {
     "name": "stderr",
     "output_type": "stream",
     "text": [
      "\r",
      "294it [1:46:53, 17.26s/it]"
     ]
    },
    {
     "name": "stdout",
     "output_type": "stream",
     "text": [
      "BOOK:  Foundations of Programming Languages - Kent D. Lee - 2nd ed. 2017\n",
      "Saving book...\n"
     ]
    },
    {
     "name": "stderr",
     "output_type": "stream",
     "text": [
      "\r",
      "295it [1:47:14, 18.33s/it]"
     ]
    },
    {
     "name": "stdout",
     "output_type": "stream",
     "text": [
      "BOOK:  Problems in Classical Electromagnetism - Andrea Macchi et al. - 1st ed. 2017\n",
      "Saving book...\n"
     ]
    },
    {
     "name": "stderr",
     "output_type": "stream",
     "text": [
      "\r",
      "296it [1:47:26, 16.39s/it]"
     ]
    },
    {
     "name": "stdout",
     "output_type": "stream",
     "text": [
      "BOOK:  Polymer Chemistry - Sebastian Koltzenburg et al. - 1st ed. 2017\n",
      "Saving book...\n"
     ]
    },
    {
     "name": "stderr",
     "output_type": "stream",
     "text": [
      "\r",
      "297it [1:47:49, 18.25s/it]"
     ]
    },
    {
     "name": "stdout",
     "output_type": "stream",
     "text": [
      "BOOK:  Probability and Statistics for Computer Science - David Forsyth - 1st ed. 2018\n",
      "Saving book...\n"
     ]
    },
    {
     "name": "stderr",
     "output_type": "stream",
     "text": [
      "\r",
      "298it [1:47:57, 15.37s/it]"
     ]
    },
    {
     "name": "stdout",
     "output_type": "stream",
     "text": [
      "BOOK:  Empathetic Space on Screen - Amedeo D'Adamo - 1st ed. 2018\n",
      "Saving book...\n"
     ]
    },
    {
     "name": "stderr",
     "output_type": "stream",
     "text": [
      "\r",
      "299it [1:48:04, 12.70s/it]"
     ]
    },
    {
     "name": "stdout",
     "output_type": "stream",
     "text": [
      "BOOK:  Political Social Work - Shannon R. Lane et al. - 1st ed. 2018\n",
      "Saving book...\n"
     ]
    },
    {
     "name": "stderr",
     "output_type": "stream",
     "text": [
      "\r",
      "300it [1:48:13, 11.70s/it]"
     ]
    },
    {
     "name": "stdout",
     "output_type": "stream",
     "text": [
      "BOOK:  Introductory Quantum Mechanics - Paul R. Berman - 1st ed. 2018\n",
      "Saving book...\n"
     ]
    },
    {
     "name": "stderr",
     "output_type": "stream",
     "text": [
      "\r",
      "301it [1:48:22, 10.92s/it]"
     ]
    },
    {
     "name": "stdout",
     "output_type": "stream",
     "text": [
      "BOOK:  Guide to Competitive Programming - Antti Laaksonen - 1st ed. 2017\n",
      "Saving book...\n"
     ]
    },
    {
     "name": "stderr",
     "output_type": "stream",
     "text": [
      "\r",
      "302it [1:48:32, 10.69s/it]"
     ]
    },
    {
     "name": "stdout",
     "output_type": "stream",
     "text": [
      "BOOK:  Introduction to Artificial Intelligence - Wolfgang Ertel - 2nd ed. 2017\n",
      "Saving book...\n"
     ]
    },
    {
     "name": "stderr",
     "output_type": "stream",
     "text": [
      "\r",
      "303it [1:48:45, 11.43s/it]"
     ]
    },
    {
     "name": "stdout",
     "output_type": "stream",
     "text": [
      "BOOK:  Bioinformatics for Evolutionary Biologists - Bernhard Haubold et al. - 1st ed. 2017\n",
      "Saving book...\n"
     ]
    },
    {
     "name": "stderr",
     "output_type": "stream",
     "text": [
      "\r",
      "304it [1:48:53, 10.25s/it]"
     ]
    },
    {
     "name": "stdout",
     "output_type": "stream",
     "text": [
      "BOOK:  Concepts, Methods and Practical Applications in Applied Demography - Richard K. Thomas - 1st ed. 2018\n",
      "Saving book...\n"
     ]
    },
    {
     "name": "stderr",
     "output_type": "stream",
     "text": [
      "\r",
      "305it [1:48:59,  9.07s/it]"
     ]
    },
    {
     "name": "stdout",
     "output_type": "stream",
     "text": [
      "BOOK:  Introduction to Deep Learning - Sandro Skansi - 1st ed. 2018\n",
      "Saving book...\n"
     ]
    },
    {
     "name": "stderr",
     "output_type": "stream",
     "text": [
      "\r",
      "306it [1:49:04,  7.88s/it]"
     ]
    },
    {
     "name": "stdout",
     "output_type": "stream",
     "text": [
      "BOOK:  Energy and the Wealth of Nations - Charles A.S. Hall et al. - 2nd ed. 2018\n",
      "Saving book...\n"
     ]
    },
    {
     "name": "stderr",
     "output_type": "stream",
     "text": [
      "\r",
      "307it [1:49:16,  9.01s/it]"
     ]
    },
    {
     "name": "stdout",
     "output_type": "stream",
     "text": [
      "BOOK:  A Beginner's Guide to Scala, Object Orientation and Functional Programming - John Hunt - 2nd ed. 2018\n",
      "Saving book...\n"
     ]
    },
    {
     "name": "stderr",
     "output_type": "stream",
     "text": [
      "\r",
      "308it [1:49:46, 15.35s/it]"
     ]
    },
    {
     "name": "stdout",
     "output_type": "stream",
     "text": [
      "BOOK:  Lessons on Synthetic Bioarchitectures - Eva-Kathrin Ehmoser-Sinner et al. - 1st ed. 2018\n",
      "Saving book...\n"
     ]
    },
    {
     "name": "stderr",
     "output_type": "stream",
     "text": [
      "\r",
      "309it [1:49:51, 12.29s/it]"
     ]
    },
    {
     "name": "stdout",
     "output_type": "stream",
     "text": [
      "BOOK:  Managing Sustainable Business - Gilbert G. Lenssen et al. - 1st ed. 2019\n",
      "Saving book...\n"
     ]
    },
    {
     "name": "stderr",
     "output_type": "stream",
     "text": [
      "\r",
      "310it [1:50:07, 13.41s/it]"
     ]
    },
    {
     "name": "stdout",
     "output_type": "stream",
     "text": [
      "BOOK:  Engineering Mechanics 2 - Dietmar Gross et al. - 2nd ed. 2018\n",
      "Saving book...\n"
     ]
    },
    {
     "name": "stderr",
     "output_type": "stream",
     "text": [
      "\r",
      "311it [1:50:12, 10.85s/it]"
     ]
    },
    {
     "name": "stdout",
     "output_type": "stream",
     "text": [
      "BOOK:  Fundamentals of Business Process Management - Marlon Dumas et al. - 2nd ed. 2018\n",
      "Saving book...\n"
     ]
    },
    {
     "name": "stderr",
     "output_type": "stream",
     "text": [
      "\r",
      "312it [1:50:33, 13.92s/it]"
     ]
    },
    {
     "name": "stdout",
     "output_type": "stream",
     "text": [
      "BOOK:  Clinical Methods in Medical Family Therapy - Tai Mendenhall et al. - 1st ed. 2018\n",
      "Saving book...\n"
     ]
    },
    {
     "name": "stderr",
     "output_type": "stream",
     "text": [
      "\r",
      "313it [1:50:40, 11.87s/it]"
     ]
    },
    {
     "name": "stdout",
     "output_type": "stream",
     "text": [
      "BOOK:  Guide to Scientific Computing in C++ - Joe Pitt-Francis et al. - 2nd ed. 2017\n",
      "Saving book...\n"
     ]
    },
    {
     "name": "stderr",
     "output_type": "stream",
     "text": [
      "\r",
      "314it [1:50:45,  9.72s/it]"
     ]
    },
    {
     "name": "stdout",
     "output_type": "stream",
     "text": [
      "BOOK:  Motivation and Action  - Jutta Heckhausen et al. - 3rd ed. 2018\n",
      "Saving book...\n"
     ]
    },
    {
     "name": "stderr",
     "output_type": "stream",
     "text": [
      "\r",
      "315it [1:51:00, 11.26s/it]"
     ]
    },
    {
     "name": "stdout",
     "output_type": "stream",
     "text": [
      "BOOK:  Perspectives on Elderly Crime and Victimization - Peter C. Kratcoski et al. - 1st ed. 2018\n",
      "Saving book...\n"
     ]
    },
    {
     "name": "stderr",
     "output_type": "stream",
     "text": [
      "\r",
      "316it [1:51:04,  9.21s/it]"
     ]
    },
    {
     "name": "stdout",
     "output_type": "stream",
     "text": [
      "BOOK:  Knowledge Management - Klaus North et al. - 2nd ed. 2018\n",
      "Saving book...\n"
     ]
    },
    {
     "name": "stderr",
     "output_type": "stream",
     "text": [
      "\r",
      "317it [1:51:12,  8.83s/it]"
     ]
    },
    {
     "name": "stdout",
     "output_type": "stream",
     "text": [
      "BOOK:  An Introduction to Zooarchaeology - Diane Gifford-Gonzalez - 1st ed. 2018\n",
      "Saving book...\n"
     ]
    },
    {
     "name": "stderr",
     "output_type": "stream",
     "text": [
      "\r",
      "318it [1:51:24,  9.75s/it]"
     ]
    },
    {
     "name": "stdout",
     "output_type": "stream",
     "text": [
      "BOOK:  Abstract Algebra - Gregory T. Lee - 1st ed. 2018\n",
      "Saving book...\n"
     ]
    },
    {
     "name": "stderr",
     "output_type": "stream",
     "text": [
      "\r",
      "319it [1:51:30,  8.50s/it]"
     ]
    },
    {
     "name": "stdout",
     "output_type": "stream",
     "text": [
      "BOOK:  Criminal Justice and Mental Health - Jada Hector et al. - 1st ed. 2018\n",
      "Saving book...\n"
     ]
    },
    {
     "name": "stderr",
     "output_type": "stream",
     "text": [
      "\r",
      "320it [1:51:35,  7.55s/it]"
     ]
    },
    {
     "name": "stdout",
     "output_type": "stream",
     "text": [
      "BOOK:  Philosophy of Race - Naomi Zack - 1st ed. 2018\n",
      "Saving book...\n"
     ]
    },
    {
     "name": "stderr",
     "output_type": "stream",
     "text": [
      "\r",
      "321it [1:51:40,  6.74s/it]"
     ]
    },
    {
     "name": "stdout",
     "output_type": "stream",
     "text": [
      "BOOK:  Of Cigarettes, High Heels, and Other Interesting Things - Marcel Danesi - 3rd ed. 2018\n",
      "Saving book...\n"
     ]
    },
    {
     "name": "stderr",
     "output_type": "stream",
     "text": [
      "\r",
      "322it [1:51:44,  5.87s/it]"
     ]
    },
    {
     "name": "stdout",
     "output_type": "stream",
     "text": [
      "BOOK:  Applied Bioinformatics - Paul M. Selzer et al. - 2nd ed. 2018\n",
      "Saving book...\n"
     ]
    },
    {
     "name": "stderr",
     "output_type": "stream",
     "text": [
      "\r",
      "323it [1:51:52,  6.65s/it]"
     ]
    },
    {
     "name": "stdout",
     "output_type": "stream",
     "text": [
      "BOOK:  Linear Algebra and Analytic Geometry for Physical Sciences - Giovanni Landi et al. - 1st ed. 2018\n",
      "Saving book...\n"
     ]
    },
    {
     "name": "stderr",
     "output_type": "stream",
     "text": [
      "\r",
      "324it [1:51:57,  6.18s/it]"
     ]
    },
    {
     "name": "stdout",
     "output_type": "stream",
     "text": [
      "BOOK:  Building Energy Modeling with OpenStudio - Larry Brackney et al. - 1st ed. 2018\n",
      "Saving book...\n"
     ]
    },
    {
     "name": "stderr",
     "output_type": "stream",
     "text": [
      "\r",
      "325it [1:52:26, 12.82s/it]"
     ]
    },
    {
     "name": "stdout",
     "output_type": "stream",
     "text": [
      "BOOK:  Customer Relationship Management - V. Kumar et al. - 3rd ed. 2018\n",
      "Saving book...\n"
     ]
    },
    {
     "name": "stderr",
     "output_type": "stream",
     "text": [
      "\r",
      "326it [1:52:35, 11.72s/it]"
     ]
    },
    {
     "name": "stdout",
     "output_type": "stream",
     "text": [
      "BOOK:  The A-Z of the PhD Trajectory - Eva O. L. Lantsoght - 1st ed. 2018\n",
      "Saving book...\n"
     ]
    },
    {
     "name": "stderr",
     "output_type": "stream",
     "text": [
      "\r",
      "327it [1:52:43, 10.49s/it]"
     ]
    },
    {
     "name": "stdout",
     "output_type": "stream",
     "text": [
      "BOOK:  Strategic Human Resource Management and Employment Relations - Ashish Malik - 1st ed. 2018\n",
      "Saving book...\n"
     ]
    },
    {
     "name": "stderr",
     "output_type": "stream",
     "text": [
      "\r",
      "328it [1:52:48,  8.96s/it]"
     ]
    },
    {
     "name": "stdout",
     "output_type": "stream",
     "text": [
      "BOOK:  Applied Linear Algebra - Peter J. Olver et al. - 2nd ed. 2018\n",
      "Saving book...\n"
     ]
    },
    {
     "name": "stderr",
     "output_type": "stream",
     "text": [
      "\r",
      "329it [1:52:57,  8.97s/it]"
     ]
    },
    {
     "name": "stdout",
     "output_type": "stream",
     "text": [
      "BOOK:  Witnessing Torture - Alexandra S. Moore et al. - 1st ed. 2018\n",
      "Saving book...\n"
     ]
    },
    {
     "name": "stderr",
     "output_type": "stream",
     "text": [
      "\r",
      "330it [1:53:01,  7.61s/it]"
     ]
    },
    {
     "name": "stdout",
     "output_type": "stream",
     "text": [
      "BOOK:  Proofs from THE BOOK - Martin Aigner et al. - 6th ed. 2018\n",
      "Saving book...\n"
     ]
    },
    {
     "name": "stderr",
     "output_type": "stream",
     "text": [
      "\r",
      "331it [1:53:09,  7.70s/it]"
     ]
    },
    {
     "name": "stdout",
     "output_type": "stream",
     "text": [
      "BOOK:  Introduction to General Relativity - Cosimo Bambi - 1st ed. 2018\n",
      "Saving book...\n"
     ]
    },
    {
     "name": "stderr",
     "output_type": "stream",
     "text": [
      "\r",
      "332it [1:53:15,  7.21s/it]"
     ]
    },
    {
     "name": "stdout",
     "output_type": "stream",
     "text": [
      "BOOK:  Introduction to Particle and Astroparticle Physics - Alessandro De Angelis et al. - 2nd ed. 2018\n",
      "Saving book...\n"
     ]
    },
    {
     "name": "stderr",
     "output_type": "stream",
     "text": [
      "\r",
      "333it [1:53:41, 12.86s/it]"
     ]
    },
    {
     "name": "stdout",
     "output_type": "stream",
     "text": [
      "BOOK:  Fundamentals of Java Programming - Mitsunori Ogihara - 1st ed. 2018\n",
      "Saving book...\n"
     ]
    },
    {
     "name": "stderr",
     "output_type": "stream",
     "text": [
      "\r",
      "334it [1:54:11, 17.82s/it]"
     ]
    },
    {
     "name": "stdout",
     "output_type": "stream",
     "text": [
      "BOOK:  Optimization of Process Flowsheets through Metaheuristic Techniques  - Jose Maria Ponce-Ortega et al. - 1st ed. 2019\n",
      "Saving book...\n"
     ]
    },
    {
     "name": "stderr",
     "output_type": "stream",
     "text": [
      "\r",
      "335it [1:54:18, 14.75s/it]"
     ]
    },
    {
     "name": "stdout",
     "output_type": "stream",
     "text": [
      "BOOK:  Robotics - Matjaz Mihelj et al. - 2nd ed. 2019\n",
      "Saving book...\n"
     ]
    },
    {
     "name": "stderr",
     "output_type": "stream",
     "text": [
      "\r",
      "336it [1:54:26, 12.75s/it]"
     ]
    },
    {
     "name": "stdout",
     "output_type": "stream",
     "text": [
      "BOOK:  Business Ethics - A Philosophical and Behavioral Approach - Christian A. Conrad - 1st ed. 2018\n",
      "Saving book...\n"
     ]
    },
    {
     "name": "stderr",
     "output_type": "stream",
     "text": [
      "\r",
      "337it [1:54:32, 10.56s/it]"
     ]
    },
    {
     "name": "stdout",
     "output_type": "stream",
     "text": [
      "BOOK:  A First Introduction to Quantum Physics - Pieter Kok - 1st ed. 2018\n",
      "Saving book...\n"
     ]
    },
    {
     "name": "stderr",
     "output_type": "stream",
     "text": [
      "\r",
      "338it [1:54:38,  9.22s/it]"
     ]
    },
    {
     "name": "stdout",
     "output_type": "stream",
     "text": [
      "BOOK:  Argumentation Theory A Pragma-Dialectical Perspective - Frans H. van Eemeren - 1st ed. 2018\n",
      "Saving book...\n"
     ]
    },
    {
     "name": "stderr",
     "output_type": "stream",
     "text": [
      "\r",
      "339it [1:54:42,  7.70s/it]"
     ]
    },
    {
     "name": "stdout",
     "output_type": "stream",
     "text": [
      "BOOK:  Logical Foundations of Cyber-Physical Systems - Andre Platzer - 1st ed. 2018\n",
      "Saving book...\n"
     ]
    },
    {
     "name": "stderr",
     "output_type": "stream",
     "text": [
      "\r",
      "340it [1:54:52,  8.34s/it]"
     ]
    },
    {
     "name": "stdout",
     "output_type": "stream",
     "text": [
      "BOOK:  Off-Grid Electrical Systems in Developing Countries - Henry Louie - 1st ed. 2018\n",
      "Saving book...\n"
     ]
    },
    {
     "name": "stderr",
     "output_type": "stream",
     "text": [
      "\r",
      "341it [1:55:10, 11.14s/it]"
     ]
    },
    {
     "name": "stdout",
     "output_type": "stream",
     "text": [
      "BOOK:  Entertainment Science - Thorsten Hennig-Thurau et al. - 1st ed. 2019\n",
      "Saving book...\n"
     ]
    },
    {
     "name": "stderr",
     "output_type": "stream",
     "text": [
      "\r",
      "342it [1:55:24, 12.08s/it]"
     ]
    },
    {
     "name": "stdout",
     "output_type": "stream",
     "text": [
      "BOOK:  Physics of Oscillations and Waves - Arnt Inge Vistnes - 1st ed. 2018\n",
      "Saving book...\n"
     ]
    },
    {
     "name": "stderr",
     "output_type": "stream",
     "text": [
      "\r",
      "343it [1:55:43, 14.23s/it]"
     ]
    },
    {
     "name": "stdout",
     "output_type": "stream",
     "text": [
      "BOOK:  Introduction to Programming with Fortran - Ian Chivers et al. - 4th ed. 2018\n",
      "Saving book...\n"
     ]
    },
    {
     "name": "stderr",
     "output_type": "stream",
     "text": [
      "\r",
      "344it [1:55:51, 12.28s/it]"
     ]
    },
    {
     "name": "stdout",
     "output_type": "stream",
     "text": [
      "BOOK:  Fundamentals of Solid State Engineering - Manijeh Razeghi - 4th ed. 2019\n",
      "Saving book...\n"
     ]
    },
    {
     "name": "stderr",
     "output_type": "stream",
     "text": [
      "\r",
      "345it [1:56:13, 15.20s/it]"
     ]
    },
    {
     "name": "stdout",
     "output_type": "stream",
     "text": [
      "BOOK:  Introduction to Digital Systems Design - Giuliano Donzellini et al. - 1st ed. 2019\n",
      "Saving book...\n"
     ]
    },
    {
     "name": "stderr",
     "output_type": "stream",
     "text": [
      "\r",
      "346it [1:56:51, 22.18s/it]"
     ]
    },
    {
     "name": "stdout",
     "output_type": "stream",
     "text": [
      "BOOK:  Neural Networks and Deep Learning - Charu C. Aggarwal - 1st ed. 2018\n",
      "Saving book...\n"
     ]
    },
    {
     "name": "stderr",
     "output_type": "stream",
     "text": [
      "\r",
      "347it [1:57:02, 18.80s/it]"
     ]
    },
    {
     "name": "stdout",
     "output_type": "stream",
     "text": [
      "BOOK:  Data Science and Predictive Analytics - Ivo D. Dinov - 1st ed. 2018\n",
      "Saving book...\n"
     ]
    },
    {
     "name": "stderr",
     "output_type": "stream",
     "text": [
      "\r",
      "348it [1:57:57, 29.44s/it]"
     ]
    },
    {
     "name": "stdout",
     "output_type": "stream",
     "text": [
      "BOOK:  Systems Programming in UnixLinux - K.C. Wang - 1st ed. 2018\n",
      "Saving book...\n"
     ]
    },
    {
     "name": "stderr",
     "output_type": "stream",
     "text": [
      "\r",
      "349it [1:58:05, 23.18s/it]"
     ]
    },
    {
     "name": "stdout",
     "output_type": "stream",
     "text": [
      "BOOK:  Analytical Corporate Finance - Angelo Corelli - 2nd ed. 2018\n",
      "Saving book...\n"
     ]
    },
    {
     "name": "stderr",
     "output_type": "stream",
     "text": [
      "\r",
      "350it [1:58:12, 18.42s/it]"
     ]
    },
    {
     "name": "stdout",
     "output_type": "stream",
     "text": [
      "BOOK:  Fraud and Corruption - Peter C. Kratcoski et al. - 1st ed. 2018\n",
      "Saving book...\n"
     ]
    },
    {
     "name": "stderr",
     "output_type": "stream",
     "text": [
      "\r",
      "351it [1:58:17, 14.18s/it]"
     ]
    },
    {
     "name": "stdout",
     "output_type": "stream",
     "text": [
      "BOOK:  Conferencing and Presentation English for Young Academics - Michael Guest - 1st ed. 2018\n",
      "Saving book...\n"
     ]
    },
    {
     "name": "stderr",
     "output_type": "stream",
     "text": [
      "\r",
      "352it [1:58:22, 11.39s/it]"
     ]
    },
    {
     "name": "stdout",
     "output_type": "stream",
     "text": [
      "BOOK:  A Concise Guide to Market Research - Marko Sarstedt et al. - 3rd ed. 2019\n",
      "Saving book...\n"
     ]
    },
    {
     "name": "stderr",
     "output_type": "stream",
     "text": [
      "\r",
      "353it [1:58:36, 12.22s/it]"
     ]
    },
    {
     "name": "stdout",
     "output_type": "stream",
     "text": [
      "BOOK:  Global Supply Chain and Operations Management - Dmitry Ivanov et al. - 2nd ed. 2019\n",
      "Saving book...\n"
     ]
    },
    {
     "name": "stderr",
     "output_type": "stream",
     "text": [
      "\r",
      "354it [1:58:54, 14.11s/it]"
     ]
    },
    {
     "name": "stdout",
     "output_type": "stream",
     "text": [
      "BOOK:  Introduction to Parallel Computing - Roman Trobec et al. - 1st ed. 2018\n",
      "Saving book...\n"
     ]
    },
    {
     "name": "stderr",
     "output_type": "stream",
     "text": [
      "\r",
      "355it [1:59:03, 12.40s/it]"
     ]
    },
    {
     "name": "stdout",
     "output_type": "stream",
     "text": [
      "BOOK:  Mathematical Logic - Roman Kossak - 1st ed. 2018\n",
      "Saving book...\n"
     ]
    },
    {
     "name": "stderr",
     "output_type": "stream",
     "text": [
      "\r",
      "356it [1:59:06,  9.83s/it]"
     ]
    },
    {
     "name": "stdout",
     "output_type": "stream",
     "text": [
      "BOOK:  Stability and Control of Linear Systems - Andrea Bacciotti - 1st ed. 2019\n",
      "Saving book...\n"
     ]
    },
    {
     "name": "stderr",
     "output_type": "stream",
     "text": [
      "\r",
      "357it [1:59:10,  8.05s/it]"
     ]
    },
    {
     "name": "stdout",
     "output_type": "stream",
     "text": [
      "BOOK:  Introduction to Formal Philosophy - Sven Ove Hansson et al. - 1st ed. 2018\n",
      "Saving book...\n"
     ]
    },
    {
     "name": "stderr",
     "output_type": "stream",
     "text": [
      "\r",
      "358it [1:59:20,  8.37s/it]"
     ]
    },
    {
     "name": "stdout",
     "output_type": "stream",
     "text": [
      "BOOK:  Analysis for Computer Scientists - Michael Oberguggenberger et al. - 2nd ed. 2018\n",
      "Saving book...\n"
     ]
    },
    {
     "name": "stderr",
     "output_type": "stream",
     "text": [
      "\r",
      "359it [1:59:28,  8.29s/it]"
     ]
    },
    {
     "name": "stdout",
     "output_type": "stream",
     "text": [
      "BOOK:  International Business Management - Kamal Fatehi et al. - 2nd ed. 2019\n",
      "Saving book...\n"
     ]
    },
    {
     "name": "stderr",
     "output_type": "stream",
     "text": [
      "\r",
      "360it [1:59:33,  7.52s/it]"
     ]
    },
    {
     "name": "stdout",
     "output_type": "stream",
     "text": [
      "BOOK:  Research Methods for the Digital Humanities - lewis levenberg et al. - 1st ed. 2018\n",
      "Saving book...\n"
     ]
    },
    {
     "name": "stderr",
     "output_type": "stream",
     "text": [
      "\r",
      "361it [1:59:41,  7.56s/it]"
     ]
    },
    {
     "name": "stdout",
     "output_type": "stream",
     "text": [
      "BOOK:  Introductory Computer Forensics - Xiaodong Lin - 1st ed. 2018\n",
      "Saving book...\n"
     ]
    },
    {
     "name": "stderr",
     "output_type": "stream",
     "text": [
      "\r",
      "362it [2:00:08, 13.29s/it]"
     ]
    },
    {
     "name": "stdout",
     "output_type": "stream",
     "text": [
      "BOOK:  Control Engineering - Laszlo Keviczky et al. - 1st ed. 2019\n",
      "Saving book...\n"
     ]
    },
    {
     "name": "stderr",
     "output_type": "stream",
     "text": [
      "\r",
      "363it [2:00:22, 13.62s/it]"
     ]
    },
    {
     "name": "stdout",
     "output_type": "stream",
     "text": [
      "BOOK:  Control Engineering MATLAB Exercises - Laszlo Keviczky et al. - 1st ed. 2019\n",
      "Saving book...\n"
     ]
    },
    {
     "name": "stderr",
     "output_type": "stream",
     "text": [
      "\r",
      "364it [2:00:33, 12.82s/it]"
     ]
    },
    {
     "name": "stdout",
     "output_type": "stream",
     "text": [
      "BOOK:  ENZYMES Catalysis, Kinetics and Mechanisms - N.S. Punekar - 1st ed. 2018\n",
      "Saving book...\n"
     ]
    },
    {
     "name": "stderr",
     "output_type": "stream",
     "text": [
      "\r",
      "365it [2:00:47, 13.29s/it]"
     ]
    },
    {
     "name": "stdout",
     "output_type": "stream",
     "text": [
      "BOOK:  Automatic Control with Experiments - Victor Manuel Hernandez-Guzman et al. - 1st ed. 2019\n",
      "Saving book...\n"
     ]
    },
    {
     "name": "stderr",
     "output_type": "stream",
     "text": [
      "\r",
      "366it [2:01:32, 22.75s/it]"
     ]
    },
    {
     "name": "stdout",
     "output_type": "stream",
     "text": [
      "BOOK:  Internet of Things From Hype to Reality - Ammar Rayes et al. - 2nd ed. 2019\n",
      "Saving book...\n"
     ]
    },
    {
     "name": "stderr",
     "output_type": "stream",
     "text": [
      "\r",
      "367it [2:01:41, 18.71s/it]"
     ]
    },
    {
     "name": "stdout",
     "output_type": "stream",
     "text": [
      "BOOK:  Quantitative Methods for the Social Sciences - Daniel Stockemer - 1st ed. 2019\n",
      "Saving book...\n"
     ]
    },
    {
     "name": "stderr",
     "output_type": "stream",
     "text": [
      "\r",
      "368it [2:01:50, 15.60s/it]"
     ]
    },
    {
     "name": "stdout",
     "output_type": "stream",
     "text": [
      "BOOK:  A Pythagorean Introduction to Number Theory - Ramin Takloo-Bighash - 1st ed. 2018\n",
      "Saving book...\n"
     ]
    },
    {
     "name": "stderr",
     "output_type": "stream",
     "text": [
      "\r",
      "369it [2:01:55, 12.48s/it]"
     ]
    },
    {
     "name": "stdout",
     "output_type": "stream",
     "text": [
      "BOOK:  Philosophical and Mathematical Logic - Harrie de Swart - 1st ed. 2018\n",
      "Saving book...\n"
     ]
    },
    {
     "name": "stderr",
     "output_type": "stream",
     "text": [
      "\r",
      "370it [2:02:02, 10.84s/it]"
     ]
    },
    {
     "name": "stdout",
     "output_type": "stream",
     "text": [
      "BOOK:  Structural Dynamics - Mario Paz et al. - 6th ed. 2019\n",
      "Saving book...\n"
     ]
    },
    {
     "name": "stderr",
     "output_type": "stream",
     "text": [
      "\r",
      "371it [2:02:23, 13.76s/it]"
     ]
    },
    {
     "name": "stdout",
     "output_type": "stream",
     "text": [
      "BOOK:  Plant Physiology, Development and Metabolism - Satish C Bhatla et al. - 1st ed. 2018\n",
      "Saving book...\n"
     ]
    },
    {
     "name": "stderr",
     "output_type": "stream",
     "text": [
      "\r",
      "372it [2:03:00, 20.72s/it]"
     ]
    },
    {
     "name": "stdout",
     "output_type": "stream",
     "text": [
      "BOOK:  Quantum Mechanics for Pedestrians 1 - Jochen Pade - 2nd ed. 2018\n",
      "Saving book...\n"
     ]
    },
    {
     "name": "stderr",
     "output_type": "stream",
     "text": [
      "\r",
      "373it [2:03:06, 16.46s/it]"
     ]
    },
    {
     "name": "stdout",
     "output_type": "stream",
     "text": [
      "BOOK:  Plant Anatomy - Richard Crang et al. - 1st ed. 2018\n",
      "Saving book...\n"
     ]
    },
    {
     "name": "stderr",
     "output_type": "stream",
     "text": [
      "\r",
      "374it [2:05:03, 46.51s/it]"
     ]
    },
    {
     "name": "stdout",
     "output_type": "stream",
     "text": [
      "BOOK:  Quantum Mechanics for Pedestrians 2 - Jochen Pade - 2nd ed. 2018\n",
      "Saving book...\n"
     ]
    },
    {
     "name": "stderr",
     "output_type": "stream",
     "text": [
      "\r",
      "375it [2:05:11, 35.15s/it]"
     ]
    },
    {
     "name": "stdout",
     "output_type": "stream",
     "text": [
      "BOOK:  Excel Data Analysis - Hector Guerrero - 2nd ed. 2019\n",
      "Saving book...\n"
     ]
    },
    {
     "name": "stderr",
     "output_type": "stream",
     "text": [
      "\r",
      "376it [2:05:28, 29.53s/it]"
     ]
    },
    {
     "name": "stdout",
     "output_type": "stream",
     "text": [
      "BOOK:  Quick Start Guide to VHDL - Brock J. LaMeres - 1st ed. 2019\n",
      "Saving book...\n"
     ]
    },
    {
     "name": "stderr",
     "output_type": "stream",
     "text": [
      "\r",
      "377it [2:05:44, 25.68s/it]"
     ]
    },
    {
     "name": "stdout",
     "output_type": "stream",
     "text": [
      "BOOK:  Java in Two Semesters - Quentin Charatan et al. - 4th ed. 2019\n",
      "Saving book...\n"
     ]
    },
    {
     "name": "stderr",
     "output_type": "stream",
     "text": [
      "\r",
      "378it [2:06:21, 28.84s/it]"
     ]
    },
    {
     "name": "stdout",
     "output_type": "stream",
     "text": [
      "BOOK:  Managing Media and Digital Organizations - Eli M. Noam - 1st ed. 2019\n",
      "Saving book...\n"
     ]
    },
    {
     "name": "stderr",
     "output_type": "stream",
     "text": [
      "\r",
      "379it [2:06:36, 24.80s/it]"
     ]
    },
    {
     "name": "stdout",
     "output_type": "stream",
     "text": [
      "BOOK:  Media and Digital Management - Eli M. Noam - 1st ed. 2019\n",
      "Saving book...\n"
     ]
    },
    {
     "name": "stderr",
     "output_type": "stream",
     "text": [
      "\r",
      "380it [2:06:47, 20.65s/it]"
     ]
    },
    {
     "name": "stdout",
     "output_type": "stream",
     "text": [
      "BOOK:  An Anthology of London in Literature, 1558-1914 - Geoffrey G. Hiller et al. - 1st ed. 2019\n",
      "Saving book...\n"
     ]
    },
    {
     "name": "stderr",
     "output_type": "stream",
     "text": [
      "\r",
      "381it [2:06:51, 15.59s/it]"
     ]
    },
    {
     "name": "stdout",
     "output_type": "stream",
     "text": [
      "BOOK:  Astronautics - Ulrich Walter - 3rd ed. 2018\n",
      "Saving book...\n"
     ]
    },
    {
     "name": "stderr",
     "output_type": "stream",
     "text": [
      "\r",
      "382it [2:07:27, 21.67s/it]"
     ]
    },
    {
     "name": "stdout",
     "output_type": "stream",
     "text": [
      "BOOK:  Perceptual Organization - Stephen Handel - 1st ed. 2019\n",
      "Saving book...\n"
     ]
    },
    {
     "name": "stderr",
     "output_type": "stream",
     "text": [
      "\r",
      "383it [2:07:35, 17.73s/it]"
     ]
    },
    {
     "name": "stdout",
     "output_type": "stream",
     "text": [
      "BOOK:  Research Methods for Social Justice and Equity in Education - Kamden K. Strunk et al. - 1st ed. 2019\n",
      "Saving book...\n"
     ]
    },
    {
     "name": "stderr",
     "output_type": "stream",
     "text": [
      "\r",
      "384it [2:07:40, 13.98s/it]"
     ]
    },
    {
     "name": "stdout",
     "output_type": "stream",
     "text": [
      "BOOK:  Educational Technology - Ronghuai Huang et al. - 1st ed. 2019\n",
      "Saving book...\n"
     ]
    },
    {
     "name": "stderr",
     "output_type": "stream",
     "text": [
      "\r",
      "385it [2:07:46, 11.38s/it]"
     ]
    },
    {
     "name": "stdout",
     "output_type": "stream",
     "text": [
      "BOOK:  Quick Start Guide to Verilog - Brock J. LaMeres - 1st ed. 2019\n",
      "Saving book...\n"
     ]
    },
    {
     "name": "stderr",
     "output_type": "stream",
     "text": [
      "\r",
      "386it [2:08:00, 12.38s/it]"
     ]
    },
    {
     "name": "stdout",
     "output_type": "stream",
     "text": [
      "BOOK:  Spine Surgery - Bernhard Meyer et al. - 1st ed. 2019\n",
      "Saving book...\n"
     ]
    },
    {
     "name": "stderr",
     "output_type": "stream",
     "text": [
      "\r",
      "387it [2:08:40, 20.55s/it]"
     ]
    },
    {
     "name": "stdout",
     "output_type": "stream",
     "text": [
      "BOOK:  Introduction to Logic Circuits & Logic Design with VHDL  - Brock J. LaMeres - 2nd ed. 2019\n",
      "Saving book...\n"
     ]
    },
    {
     "name": "stderr",
     "output_type": "stream",
     "text": [
      "\r",
      "388it [2:09:21, 26.52s/it]"
     ]
    },
    {
     "name": "stdout",
     "output_type": "stream",
     "text": [
      "BOOK:  Social Justice Theory and Practice for Social Work - Lynelle Watts et al. - 1st ed. 2019\n",
      "Saving book...\n"
     ]
    },
    {
     "name": "stderr",
     "output_type": "stream",
     "text": [
      "\r",
      "389it [2:09:25, 19.92s/it]"
     ]
    },
    {
     "name": "stdout",
     "output_type": "stream",
     "text": [
      "BOOK:  School Leadership and Educational Change in Singapore - Benjamin Wong et al. - 1st ed. 2019\n",
      "Saving book...\n"
     ]
    },
    {
     "name": "stderr",
     "output_type": "stream",
     "text": [
      "\r",
      "390it [2:09:29, 15.26s/it]"
     ]
    },
    {
     "name": "stdout",
     "output_type": "stream",
     "text": [
      "BOOK:  Digital Business Models - Bernd W. Wirtz - 1st ed. 2019\n",
      "Saving book...\n"
     ]
    },
    {
     "name": "stderr",
     "output_type": "stream",
     "text": [
      "\r",
      "391it [2:09:40, 13.87s/it]"
     ]
    },
    {
     "name": "stdout",
     "output_type": "stream",
     "text": [
      "BOOK:  Introduction to Logic Circuits & Logic Design with Verilog - Brock J. LaMeres - 2nd ed. 2019\n",
      "Saving book...\n"
     ]
    },
    {
     "name": "stderr",
     "output_type": "stream",
     "text": [
      "\r",
      "392it [2:10:20, 21.61s/it]"
     ]
    },
    {
     "name": "stdout",
     "output_type": "stream",
     "text": [
      "BOOK:  Pharmaceutical Biotechnology - Daan J. A. Crommelin et al. - 5th ed. 2019\n",
      "Saving book...\n"
     ]
    },
    {
     "name": "stderr",
     "output_type": "stream",
     "text": [
      "\r",
      "393it [2:12:09, 48.06s/it]"
     ]
    },
    {
     "name": "stdout",
     "output_type": "stream",
     "text": [
      "BOOK:  Mapping Global Theatre Histories - Mark Pizzato - 1st ed. 2019\n",
      "Saving book...\n"
     ]
    },
    {
     "name": "stderr",
     "output_type": "stream",
     "text": [
      "\r",
      "394it [2:12:17, 35.83s/it]"
     ]
    },
    {
     "name": "stdout",
     "output_type": "stream",
     "text": [
      "BOOK:  Social Marketing in Action - Debra Z. Basil et al. - 1st ed. 2019\n",
      "Saving book...\n"
     ]
    },
    {
     "name": "stderr",
     "output_type": "stream",
     "text": [
      "\r",
      "395it [2:12:25, 27.60s/it]"
     ]
    },
    {
     "name": "stdout",
     "output_type": "stream",
     "text": [
      "BOOK:  Analyzing Qualitative Data with MAXQDA - Udo Kuckartz et al. - 1st ed. 2019\n",
      "Saving book...\n"
     ]
    },
    {
     "name": "stderr",
     "output_type": "stream",
     "text": [
      "\r",
      "396it [2:12:41, 23.91s/it]"
     ]
    },
    {
     "name": "stdout",
     "output_type": "stream",
     "text": [
      "BOOK:  Handbook of Evolutionary Research in Archaeology - Anna Marie Prentiss - 1st ed. 2019\n",
      "Saving book...\n"
     ]
    },
    {
     "name": "stderr",
     "output_type": "stream",
     "text": [
      "\r",
      "397it [2:12:49, 19.40s/it]"
     ]
    },
    {
     "name": "stdout",
     "output_type": "stream",
     "text": [
      "BOOK:  Evidence-Based Practice in Clinical Social Work - James W. Drisko et al. - 2nd ed. 2019\n",
      "Saving book...\n"
     ]
    },
    {
     "name": "stderr",
     "output_type": "stream",
     "text": [
      "\r",
      "398it [2:12:54, 15.10s/it]"
     ]
    },
    {
     "name": "stdout",
     "output_type": "stream",
     "text": [
      "BOOK:  Foundations of Behavioral Health - Bruce Lubotsky Levin et al. - 1st ed. 2020\n",
      "Saving book...\n"
     ]
    },
    {
     "name": "stderr",
     "output_type": "stream",
     "text": [
      "\r",
      "399it [2:13:01, 12.44s/it]"
     ]
    },
    {
     "name": "stdout",
     "output_type": "stream",
     "text": [
      "BOOK:  Social Psychology in Action - Kai Sassenberg et al. - 1st ed. 2019\n",
      "Saving book...\n"
     ]
    },
    {
     "name": "stderr",
     "output_type": "stream",
     "text": [
      "\r",
      "400it [2:13:07, 10.62s/it]"
     ]
    },
    {
     "name": "stdout",
     "output_type": "stream",
     "text": [
      "BOOK:  Essentials of Business Analytics - Bhimasankaram Pochiraju et al. - 1st ed. 2019\n",
      "Saving book...\n"
     ]
    },
    {
     "name": "stderr",
     "output_type": "stream",
     "text": [
      "\r",
      "401it [2:13:23, 12.20s/it]"
     ]
    },
    {
     "name": "stdout",
     "output_type": "stream",
     "text": [
      "BOOK:  A Course in Rasch Measurement Theory - David Andrich et al. - 1st ed. 2019\n",
      "Saving book...\n"
     ]
    },
    {
     "name": "stderr",
     "output_type": "stream",
     "text": [
      "\r",
      "402it [2:13:34, 11.85s/it]"
     ]
    },
    {
     "name": "stdout",
     "output_type": "stream",
     "text": [
      "BOOK:  Multimedia Big Data Computing for IoT Applications - Sudeep Tanwar et al. - 1st ed. 2020\n",
      "Saving book...\n"
     ]
    },
    {
     "name": "stderr",
     "output_type": "stream",
     "text": [
      "\r",
      "403it [2:13:47, 12.15s/it]"
     ]
    },
    {
     "name": "stdout",
     "output_type": "stream",
     "text": [
      "BOOK:  Policing and Minority Communities - James F. Albrecht et al. - 1st ed. 2019\n",
      "Saving book...\n"
     ]
    },
    {
     "name": "stderr",
     "output_type": "stream",
     "text": [
      "\r",
      "404it [2:13:53, 10.29s/it]"
     ]
    },
    {
     "name": "stdout",
     "output_type": "stream",
     "text": [
      "BOOK:  A Beginners Guide to Python 3 Programming - John Hunt - 1st ed. 2019\n",
      "Saving book...\n"
     ]
    },
    {
     "name": "stderr",
     "output_type": "stream",
     "text": [
      "\r",
      "405it [2:14:18, 14.75s/it]"
     ]
    },
    {
     "name": "stdout",
     "output_type": "stream",
     "text": [
      "BOOK:  Advanced Guide to Python 3 Programming - John Hunt - 1st ed. 2019\n",
      "Saving book...\n"
     ]
    },
    {
     "name": "stderr",
     "output_type": "stream",
     "text": [
      "\r",
      "406it [2:14:38, 16.37s/it]"
     ]
    },
    {
     "name": "stdout",
     "output_type": "stream",
     "text": [
      "BOOK:  Literature and Medicine - Ronald Schleifer et al. - 1st ed. 2019\n",
      "Saving book...\n"
     ]
    },
    {
     "name": "stderr",
     "output_type": "stream",
     "text": [
      "\r",
      "407it [2:14:41, 12.24s/it]"
     ]
    },
    {
     "name": "stdout",
     "output_type": "stream",
     "text": [
      "BOOK:  Food Fraud Prevention - John W. Spink - 1st ed. 2019\n",
      "Saving book...\n"
     ]
    },
    {
     "name": "stderr",
     "output_type": "stream",
     "text": [
      "\r",
      "408it [2:14:51, 11.55s/it]"
     ]
    },
    {
     "name": "stdout",
     "output_type": "stream",
     "text": [
      "BOOK:  Plant Ecology - Ernst-Detlef Schulze et al. - 2nd ed. 2019\n",
      "Saving book...\n"
     ]
    },
    {
     "name": "stderr",
     "output_type": "stream",
     "text": [
      "409it [2:14:53, 19.79s/it]\n"
     ]
    }
   ],
   "source": [
    "for _, row in tqdm(books.iterrows()):\n",
    "    pdf_link = requests.get(row['OpenURL']).url.replace('book', 'content/pdf') + extension\n",
    "    book_name = parse_file_name(' - '.join([remove_accents(row['Book Title']),\n",
    "                                            remove_accents(parse_author(row['Author'])),\n",
    "                                            remove_accents(row['Edition'])]))\n",
    "    subfolder_name = row['English Package Name'].strip()\\\n",
    "                                                .replace(',', '')\\\n",
    "                                                .replace(' ', '_') + '/'\n",
    "    \n",
    "    print('BOOK: ', book_name)\n",
    "    os.makedirs(folder_name + subfolder_name, exist_ok=True)\n",
    "    try:\n",
    "        with open(folder_name + subfolder_name + book_name + extension, 'wb') as file:\n",
    "            print('Saving book...')\n",
    "            file.write(requests.get(pdf_link).content)\n",
    "    except:\n",
    "        print('Could not download:\\n>>>', book_name)"
   ]
  },
  {
   "cell_type": "code",
   "execution_count": 10,
   "metadata": {},
   "outputs": [],
   "source": [
    "books.to_excel(folder_name + xl_name)"
   ]
  }
 ],
 "metadata": {
  "kernelspec": {
   "display_name": "Python 3",
   "language": "python",
   "name": "python3"
  },
  "language_info": {
   "codemirror_mode": {
    "name": "ipython",
    "version": 3
   },
   "file_extension": ".py",
   "mimetype": "text/x-python",
   "name": "python",
   "nbconvert_exporter": "python",
   "pygments_lexer": "ipython3",
   "version": "3.7.3"
  }
 },
 "nbformat": 4,
 "nbformat_minor": 4
}
